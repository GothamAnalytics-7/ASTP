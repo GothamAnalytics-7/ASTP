{
 "cells": [
  {
   "cell_type": "code",
   "execution_count": 7,
   "id": "b845e62d-4f8d-4e36-a032-51633268b069",
   "metadata": {},
   "outputs": [],
   "source": [
    "from fredapi import Fred\n",
    "import numpy as np\n",
    "import pandas as pd"
   ]
  },
  {
   "cell_type": "code",
   "execution_count": 3,
   "id": "c0f819b7-cac3-4d60-9a6e-fbba8edb1684",
   "metadata": {},
   "outputs": [],
   "source": [
    "fred = Fred(api_key=\"8ede227d95e33c5cdf2ea8a83577bc0a\")"
   ]
  },
  {
   "cell_type": "code",
   "execution_count": 6,
   "id": "9cc2a513-c500-4ca7-9e17-74a382db5372",
   "metadata": {},
   "outputs": [],
   "source": [
    "indeed_jobs = fred.get_series(\"IHLIDXNSAGB\")  # Job offerings on Indeed UK\n",
    "interest_rates = fred.get_series(\"IRLTLT01GBM156N\")  # Interest Rates: Long-Term Government Bond Yields: 10-Year for United Kingdom\n",
    "residential_prices = fred.get_series(\"QGBN628BIS\")  # Residential Property Prices for United Kingdom\n",
    "gdp_uk = fred.get_series(\"UKNGDP\")  # Gross Domestic Product for United Kingdom\n",
    "cpi_uk = fred.get_series(\"GBRCPIALLMINMEI\")  # Consumer Price Indices (CPIs, HICPs), COICOP 1999: Consumer Price Index: Total for United Kingdom\n"
   ]
  },
  {
   "cell_type": "code",
   "execution_count": 17,
   "id": "cd4ffc48-f23c-41fd-87b2-eba223c7d746",
   "metadata": {},
   "outputs": [],
   "source": [
    "economic_uncertainty = pd.read_csv(\"../data/USEPUINDXD.csv\", index_col=\"observation_date\", parse_dates=True, date_format=\"yyyy-MM-dd\").squeeze()"
   ]
  },
  {
   "cell_type": "code",
   "execution_count": 18,
   "id": "3a8ebed6-373d-4510-b558-1ba2095d1fbe",
   "metadata": {},
   "outputs": [
    {
     "data": {
      "text/plain": [
       "observation_date\n",
       "1985-01-01    103.83\n",
       "1985-01-02    296.43\n",
       "1985-01-03     56.06\n",
       "1985-01-04    118.45\n",
       "1985-01-05     88.56\n",
       "               ...  \n",
       "2025-03-07    506.79\n",
       "2025-03-08    450.88\n",
       "2025-03-09    619.69\n",
       "2025-03-10    392.44\n",
       "2025-03-11    478.36\n",
       "Name: USEPUINDXD, Length: 14680, dtype: float64"
      ]
     },
     "execution_count": 18,
     "metadata": {},
     "output_type": "execute_result"
    }
   ],
   "source": [
    "economic_uncertainty"
   ]
  },
  {
   "cell_type": "code",
   "execution_count": 29,
   "id": "b2880652-25f6-47d6-873b-6e42148cbfda",
   "metadata": {},
   "outputs": [],
   "source": [
    "data = {\n",
    "    \"daily\": [(\"indeed_jobs\", indeed_jobs), (\"economic_uncertainty\", economic_uncertainty)],\n",
    "    \"monthly\": [(\"interest_rates\", interest_rates), (\"cpi_uk\", cpi_uk)],\n",
    "    \"quarterly\": [(\"residential_prices\", residential_prices), (\"gdp_uk\", gdp_uk)]\n",
    "}"
   ]
  },
  {
   "cell_type": "code",
   "execution_count": 31,
   "id": "15975ca9-dfdf-4e85-ae2f-d09e9641dc7c",
   "metadata": {},
   "outputs": [
    {
     "name": "stdout",
     "output_type": "stream",
     "text": [
      "daily, indeed_jobs\n",
      "2025-03-17    83.45\n",
      "2025-03-18    83.40\n",
      "2025-03-19    83.33\n",
      "2025-03-20    83.35\n",
      "2025-03-21    83.39\n",
      "dtype: float64\n",
      " 1876 observations\n",
      "\n",
      "daily, economic_uncertainty\n",
      "observation_date\n",
      "2025-03-07    506.79\n",
      "2025-03-08    450.88\n",
      "2025-03-09    619.69\n",
      "2025-03-10    392.44\n",
      "2025-03-11    478.36\n",
      "Name: USEPUINDXD, dtype: float64\n",
      " 14680 observations\n",
      "\n",
      "monthly, interest_rates\n",
      "2024-10-01    4.1993\n",
      "2024-11-01    4.4164\n",
      "2024-12-01    4.4345\n",
      "2025-01-01    4.6627\n",
      "2025-02-01    4.5063\n",
      "dtype: float64\n",
      " 782 observations\n",
      "\n",
      "monthly, cpi_uk\n",
      "2024-09-01    133.5\n",
      "2024-10-01    134.3\n",
      "2024-11-01    134.6\n",
      "2024-12-01    135.1\n",
      "2025-01-01    135.1\n",
      "dtype: float64\n",
      " 841 observations\n",
      "\n",
      "quarterly, residential_prices\n",
      "2023-10-01    164.5885\n",
      "2024-01-01    162.7598\n",
      "2024-04-01    165.0873\n",
      "2024-07-01    169.9086\n",
      "2024-10-01    170.9061\n",
      "dtype: float64\n",
      " 227 observations\n",
      "\n",
      "quarterly, gdp_uk\n",
      "2023-07-01    685035.0\n",
      "2023-10-01    685749.0\n",
      "2024-01-01    697617.0\n",
      "2024-04-01    704470.0\n",
      "2024-07-01    712652.0\n",
      "dtype: float64\n",
      " 279 observations\n",
      "\n"
     ]
    }
   ],
   "source": [
    "for periodicity, series in data.items():\n",
    "    for serie_name, serie in series:\n",
    "        print(f\"{periodicity}, {serie_name}\\n{serie.tail()}\\n {len(serie)} observations\\n\")"
   ]
  },
  {
   "cell_type": "code",
   "execution_count": null,
   "id": "a6520406-d177-4275-91bf-83e648bc8033",
   "metadata": {},
   "outputs": [],
   "source": []
  }
 ],
 "metadata": {
  "kernelspec": {
   "display_name": "Python 3 (ipykernel)",
   "language": "python",
   "name": "python3"
  },
  "language_info": {
   "codemirror_mode": {
    "name": "ipython",
    "version": 3
   },
   "file_extension": ".py",
   "mimetype": "text/x-python",
   "name": "python",
   "nbconvert_exporter": "python",
   "pygments_lexer": "ipython3",
   "version": "3.10.16"
  }
 },
 "nbformat": 4,
 "nbformat_minor": 5
}
