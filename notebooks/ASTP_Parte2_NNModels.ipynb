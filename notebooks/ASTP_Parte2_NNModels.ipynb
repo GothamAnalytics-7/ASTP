{
 "cells": [
  {
   "cell_type": "code",
   "execution_count": 1,
   "id": "16815b77-1d58-47a0-90b9-004369fccdbc",
   "metadata": {},
   "outputs": [],
   "source": [
    "import logging"
   ]
  },
  {
   "cell_type": "code",
   "execution_count": 2,
   "id": "df0dea6a-c0f2-415a-bd23-a419c0229d9c",
   "metadata": {},
   "outputs": [],
   "source": [
    "class IgnorePLFilter(logging.Filter):\n",
    "    def filter(self, record):\n",
    "        keywords = ['available:', 'CUDA', 'LOCAL_RANK:']\n",
    "        return not any(keyword in record.getMessage() for keyword in keywords)\n",
    "    \n",
    "logging.getLogger('pytorch_lightning.utilities.rank_zero').addFilter(IgnorePLFilter())\n",
    "logging.getLogger('pytorch_lightning.accelerators.cuda').addFilter(IgnorePLFilter())"
   ]
  },
  {
   "cell_type": "code",
   "execution_count": 3,
   "id": "b845e62d-4f8d-4e36-a032-51633268b069",
   "metadata": {},
   "outputs": [],
   "source": [
    "from fredapi import Fred\n",
    "import numpy as np\n",
    "import pandas as pd\n",
    "import matplotlib.pyplot as plt\n",
    "import glob"
   ]
  },
  {
   "cell_type": "code",
   "execution_count": 4,
   "id": "db2c8cb2-e01d-40f5-b91b-2416620f7682",
   "metadata": {},
   "outputs": [],
   "source": [
    "from collections import OrderedDict\n",
    "from pandas.plotting import register_matplotlib_converters\n",
    "from statsmodels.tsa.stattools import adfuller, kpss, bds\n",
    "from statsmodels.tsa.seasonal import seasonal_decompose\n",
    "from statsmodels.graphics.tsaplots import plot_acf, plot_pacf\n",
    "from statsmodels.stats.diagnostic import het_arch\n",
    "from statsmodels.graphics.gofplots import qqplot\n",
    "from scipy.stats import skewtest, kurtosistest, skew, kurtosis, boxcox\n",
    "from pathlib import Path\n",
    "import os"
   ]
  },
  {
   "cell_type": "code",
   "execution_count": 5,
   "id": "5b5f931a-823a-41d8-bd8f-c65307a836d6",
   "metadata": {},
   "outputs": [],
   "source": [
    "import os\n",
    "\n",
    "os.environ['OMP_NUM_THREADS'] = '1'"
   ]
  },
  {
   "cell_type": "code",
   "execution_count": 6,
   "id": "f50c7646-79ab-4d62-bfda-2fc3027b5eac",
   "metadata": {},
   "outputs": [],
   "source": [
    "from darts import TimeSeries\n",
    "from darts.utils import statistics\n",
    "from darts.metrics import mape\n",
    "from sklearn.preprocessing import MaxAbsScaler\n",
    "from darts.dataprocessing.transformers import Scaler"
   ]
  },
  {
   "cell_type": "code",
   "execution_count": 7,
   "id": "23c7a7b1-4289-4bab-88fb-e0b967eb299c",
   "metadata": {},
   "outputs": [],
   "source": [
    "import optuna"
   ]
  },
  {
   "cell_type": "code",
   "execution_count": 8,
   "id": "f1d15690-aa70-4d07-9a69-12e409f3d205",
   "metadata": {},
   "outputs": [],
   "source": [
    "optuna_storage_path = \"optuna_journal_storage.log\"\n",
    "lock_obj = optuna.storages.journal.JournalFileOpenLock(optuna_storage_path)\n",
    "storage = optuna.storages.JournalStorage(\n",
    "    optuna.storages.journal.JournalFileBackend(optuna_storage_path, lock_obj=lock_obj)\n",
    ")"
   ]
  },
  {
   "cell_type": "code",
   "execution_count": 9,
   "id": "c0f819b7-cac3-4d60-9a6e-fbba8edb1684",
   "metadata": {},
   "outputs": [],
   "source": [
    "fred = Fred(api_key=\"8ede227d95e33c5cdf2ea8a83577bc0a\")"
   ]
  },
  {
   "cell_type": "code",
   "execution_count": 10,
   "id": "882336b1-2a0d-4582-9af8-7feaa14773cf",
   "metadata": {},
   "outputs": [],
   "source": [
    "fred_series_ids = [\"IHLIDXNSAGB\", \"IRLTLT01GBM156N\", \"QGBN628BIS\", \"UKNGDP\", \"GBRCPIALLMINMEI\"]"
   ]
  },
  {
   "cell_type": "code",
   "execution_count": 11,
   "id": "327efe3e-5e67-4ee4-845b-09d23bb95344",
   "metadata": {},
   "outputs": [],
   "source": [
    "fred_series_metadata = []\n",
    "fred_series_list = []\n",
    "for series in fred_series_ids:\n",
    "    metadata = fred.get_series_info(series)\n",
    "    series = fred.get_series(series, observation_end='2025-04-30').rename(metadata[\"title\"])\n",
    "    fred_series_metadata.append(metadata)\n",
    "    fred_series_list.append(series)"
   ]
  },
  {
   "cell_type": "raw",
   "id": "1766f27c-3b03-44b9-b564-cfde093428a3",
   "metadata": {
    "scrolled": true
   },
   "source": [
    "fred_series_metadata"
   ]
  },
  {
   "cell_type": "code",
   "execution_count": 12,
   "id": "cd4ffc48-f23c-41fd-87b2-eba223c7d746",
   "metadata": {},
   "outputs": [],
   "source": [
    "economic_uncertainty = pd.read_csv(\"../data/UK_Daily_Policy_Data.csv\")"
   ]
  },
  {
   "cell_type": "code",
   "execution_count": 13,
   "id": "63854f6a-7551-4c67-abc7-baec2493c53e",
   "metadata": {},
   "outputs": [],
   "source": [
    "economic_uncertainty[\"date\"] = pd.to_datetime(economic_uncertainty.drop(\"daily_policy_index\", axis=1))\n",
    "economic_uncertainty = economic_uncertainty.drop([\"day\", \"month\", \"year\"], axis=1).set_index(\"date\").squeeze()"
   ]
  },
  {
   "cell_type": "code",
   "execution_count": 14,
   "id": "79dbd190-f1a1-43aa-8ed1-8fdc6fc85801",
   "metadata": {},
   "outputs": [],
   "source": [
    "data = fred_series_list.copy()\n",
    "data.append(economic_uncertainty)"
   ]
  },
  {
   "cell_type": "code",
   "execution_count": 15,
   "id": "99631f9b-bc25-4092-8f35-f20694c5b950",
   "metadata": {},
   "outputs": [],
   "source": [
    "data_ts = [TimeSeries.from_series(series) for series in data]"
   ]
  },
  {
   "cell_type": "code",
   "execution_count": 16,
   "id": "896a15a0-5f20-4dbe-af7d-66ae70bd6b7e",
   "metadata": {},
   "outputs": [
    {
     "name": "stdout",
     "output_type": "stream",
     "text": [
      "0 Job Postings on Indeed in the United Kingdom 1916\n",
      "1 Interest Rates: Long-Term Government Bond Yields: 10-Year: Main (Including Benchmark) for United Kingdom 783\n",
      "2 Residential Property Prices for United Kingdom 227\n",
      "3 Gross Domestic Product for United Kingdom 280\n",
      "4 Consumer Price Indices (CPIs, HICPs), COICOP 1999: Consumer Price Index: Total for United Kingdom 842\n",
      "5 UK_Daily_Policy_Data 8886\n"
     ]
    }
   ],
   "source": [
    "[print(f\"{idx} {series.title} {len(data_ts[idx])}\") for idx, series in enumerate(fred_series_metadata)]\n",
    "print(f\"{len(data_ts) - 1} UK_Daily_Policy_Data {len(data_ts[5])}\")"
   ]
  },
  {
   "cell_type": "code",
   "execution_count": 17,
   "id": "3b9c44f9-30a4-4f02-878f-f0b925204f8b",
   "metadata": {},
   "outputs": [],
   "source": [
    "series_names = [\"Job_Postings\", \"Interest_Rates\", \"Residential_Property_Prices\", \"GDP\", \"CPI\", \"Economic_Uncertainty\"]"
   ]
  },
  {
   "cell_type": "code",
   "execution_count": 18,
   "id": "b64dabf8-6e9b-4e2a-b48d-38b6c4690bd6",
   "metadata": {},
   "outputs": [],
   "source": [
    "series_chosen = 0\n",
    "series = data_ts[series_chosen]\n",
    "series_name = series_names[series_chosen]"
   ]
  },
  {
   "cell_type": "code",
   "execution_count": 19,
   "id": "79b26ef7-be58-454a-a79f-4babb8e3b269",
   "metadata": {},
   "outputs": [],
   "source": [
    "splitting = 0.9\n",
    "visualizing = 0.7"
   ]
  },
  {
   "cell_type": "code",
   "execution_count": 20,
   "id": "79b954c2-4e40-4257-a265-bb8eca536d6d",
   "metadata": {},
   "outputs": [],
   "source": [
    "train, test = series.split_before(splitting)\n",
    "train, val = train.split_before(splitting)"
   ]
  },
  {
   "cell_type": "code",
   "execution_count": 21,
   "id": "fe3c65e6-4633-4704-9e17-20fccd9af178",
   "metadata": {},
   "outputs": [],
   "source": [
    "scaler = MaxAbsScaler()\n",
    "transformer = Scaler(scaler)"
   ]
  },
  {
   "cell_type": "code",
   "execution_count": 22,
   "id": "b4c6f4fc-225b-4d2d-ac9f-90c8bf846734",
   "metadata": {},
   "outputs": [],
   "source": [
    "train = transformer.fit_transform(train)\n",
    "val = transformer.transform(val)\n",
    "test = transformer.transform(test)"
   ]
  },
  {
   "cell_type": "code",
   "execution_count": 23,
   "id": "9928c0d1-ab12-4a89-85ad-51f034182a58",
   "metadata": {},
   "outputs": [
    {
     "name": "stdout",
     "output_type": "stream",
     "text": [
      "NVIDIA GeForce RTX 5070 Ti\n"
     ]
    }
   ],
   "source": [
    "import torch\n",
    "for i in range(torch.cuda.device_count()):\n",
    "   print(torch.cuda.get_device_properties(i).name)\n",
    "torch.set_float32_matmul_precision('high')"
   ]
  },
  {
   "cell_type": "code",
   "execution_count": 24,
   "id": "75db5588-c32b-424d-af7b-2764c5dd4161",
   "metadata": {},
   "outputs": [],
   "source": [
    "from pytorch_lightning.callbacks.early_stopping import EarlyStopping\n",
    "from pytorch_lightning.callbacks import Callback"
   ]
  },
  {
   "cell_type": "code",
   "execution_count": 25,
   "id": "8164ed3a-540e-4af3-a8d5-627b22962ef4",
   "metadata": {},
   "outputs": [],
   "source": [
    "class LossRecorder(Callback):\n",
    "    def __init__(self):\n",
    "        self.train_loss_history = []\n",
    "        self.val_loss_history = []\n",
    "\n",
    "    def on_train_epoch_end(self, trainer, pl_module):\n",
    "        self.train_loss_history.append(trainer.callback_metrics[\"train_loss\"].item())\n",
    "        self.val_loss_history.append(trainer.callback_metrics[\"val_loss\"].item())\n"
   ]
  },
  {
   "cell_type": "code",
   "execution_count": 26,
   "id": "70c393ea-f00b-4b40-8c62-927f7e461599",
   "metadata": {},
   "outputs": [],
   "source": [
    "loss_recorder = LossRecorder()\n",
    "\n",
    "# stop training when validation loss does not decrease more than 0.05 (`min_delta`) over\n",
    "# a period of 5 epochs (`patience`)\n",
    "early_stopper = EarlyStopping(\n",
    "    monitor=\"val_loss\",\n",
    "    patience=5,\n",
    "    min_delta=0.00001,\n",
    "    mode='min',\n",
    ")\n",
    "\n",
    "pl_trainer_kwargs={\"callbacks\": [early_stopper, loss_recorder]}"
   ]
  },
  {
   "cell_type": "code",
   "execution_count": 27,
   "id": "efba6087-8db8-4fd4-b8a1-1492388f3b7e",
   "metadata": {},
   "outputs": [
    {
     "name": "stderr",
     "output_type": "stream",
     "text": [
      "\n",
      "  | Name            | Type             | Params | Mode \n",
      "-------------------------------------------------------------\n",
      "0 | criterion       | MSELoss          | 0      | train\n",
      "1 | train_criterion | MSELoss          | 0      | train\n",
      "2 | val_criterion   | MSELoss          | 0      | train\n",
      "3 | train_metrics   | MetricCollection | 0      | train\n",
      "4 | val_metrics     | MetricCollection | 0      | train\n",
      "5 | stacks          | ModuleList       | 6.2 M  | train\n",
      "-------------------------------------------------------------\n",
      "6.2 M     Trainable params\n",
      "1.4 K     Non-trainable params\n",
      "6.2 M     Total params\n",
      "24.787    Total estimated model params size (MB)\n",
      "396       Modules in train mode\n",
      "0         Modules in eval mode\n"
     ]
    },
    {
     "data": {
      "application/vnd.jupyter.widget-view+json": {
       "model_id": "73ba5a5439094edfb1a648eb53c4e774",
       "version_major": 2,
       "version_minor": 0
      },
      "text/plain": [
       "Sanity Checking: |                                                                               | 0/? [00:00<…"
      ]
     },
     "metadata": {},
     "output_type": "display_data"
    },
    {
     "name": "stderr",
     "output_type": "stream",
     "text": [
      "C:\\Users\\avey\\miniforge3\\envs\\astp\\lib\\site-packages\\pytorch_lightning\\loops\\fit_loop.py:310: The number of training batches (24) is smaller than the logging interval Trainer(log_every_n_steps=50). Set a lower value for log_every_n_steps if you want to see logs for the training epoch.\n"
     ]
    },
    {
     "data": {
      "application/vnd.jupyter.widget-view+json": {
       "model_id": "9c764dff70a843b6907e4df05d224243",
       "version_major": 2,
       "version_minor": 0
      },
      "text/plain": [
       "Training: |                                                                                      | 0/? [00:00<…"
      ]
     },
     "metadata": {},
     "output_type": "display_data"
    },
    {
     "data": {
      "application/vnd.jupyter.widget-view+json": {
       "model_id": "f754ef5c8dd3412f8b2fadd6d1904756",
       "version_major": 2,
       "version_minor": 0
      },
      "text/plain": [
       "Validation: |                                                                                    | 0/? [00:00<…"
      ]
     },
     "metadata": {},
     "output_type": "display_data"
    },
    {
     "data": {
      "application/vnd.jupyter.widget-view+json": {
       "model_id": "5a5aeb67d72340fd9967c790eec9de96",
       "version_major": 2,
       "version_minor": 0
      },
      "text/plain": [
       "Validation: |                                                                                    | 0/? [00:00<…"
      ]
     },
     "metadata": {},
     "output_type": "display_data"
    },
    {
     "data": {
      "application/vnd.jupyter.widget-view+json": {
       "model_id": "2994f0ad75af4f46bc2022e6009fb68e",
       "version_major": 2,
       "version_minor": 0
      },
      "text/plain": [
       "Validation: |                                                                                    | 0/? [00:00<…"
      ]
     },
     "metadata": {},
     "output_type": "display_data"
    },
    {
     "data": {
      "application/vnd.jupyter.widget-view+json": {
       "model_id": "8dc82b2eaeea476f850445546b0a92f4",
       "version_major": 2,
       "version_minor": 0
      },
      "text/plain": [
       "Validation: |                                                                                    | 0/? [00:00<…"
      ]
     },
     "metadata": {},
     "output_type": "display_data"
    },
    {
     "data": {
      "application/vnd.jupyter.widget-view+json": {
       "model_id": "4e5ae16bfd4d4598836940aaa8c6d3bf",
       "version_major": 2,
       "version_minor": 0
      },
      "text/plain": [
       "Validation: |                                                                                    | 0/? [00:00<…"
      ]
     },
     "metadata": {},
     "output_type": "display_data"
    },
    {
     "data": {
      "application/vnd.jupyter.widget-view+json": {
       "model_id": "181f73a65a604e9bb6d4f02bf0e145f7",
       "version_major": 2,
       "version_minor": 0
      },
      "text/plain": [
       "Validation: |                                                                                    | 0/? [00:00<…"
      ]
     },
     "metadata": {},
     "output_type": "display_data"
    },
    {
     "data": {
      "application/vnd.jupyter.widget-view+json": {
       "model_id": "7eefa0fa386d48ffbc5faab8eae299a8",
       "version_major": 2,
       "version_minor": 0
      },
      "text/plain": [
       "Validation: |                                                                                    | 0/? [00:00<…"
      ]
     },
     "metadata": {},
     "output_type": "display_data"
    },
    {
     "data": {
      "application/vnd.jupyter.widget-view+json": {
       "model_id": "46a848ee5438453aa1c2a5fa77dfce95",
       "version_major": 2,
       "version_minor": 0
      },
      "text/plain": [
       "Validation: |                                                                                    | 0/? [00:00<…"
      ]
     },
     "metadata": {},
     "output_type": "display_data"
    },
    {
     "data": {
      "text/plain": [
       "NBEATSModel(output_chunk_shift=0, generic_architecture=True, num_stacks=30, num_blocks=1, num_layers=4, layer_widths=256, expansion_coefficient_dim=5, trend_polynomial_degree=2, dropout=0.0, activation=ReLU, input_chunk_length=24, output_chunk_length=12, batch_size=64, n_epochs=100, random_state=7, optimizer_kwargs={'lr': 0.001}, model_name=NBEATS, log_tensorboard=True, pl_trainer_kwargs={'callbacks': [<pytorch_lightning.callbacks.early_stopping.EarlyStopping object at 0x0000021888C20DC0>, <__main__.LossRecorder object at 0x0000021888C20CD0>]})"
      ]
     },
     "execution_count": 27,
     "metadata": {},
     "output_type": "execute_result"
    }
   ],
   "source": [
    "# https://unit8co.github.io/darts/generated_api/darts.models.forecasting.nbeats.html\n",
    "from darts.models import NBEATSModel\n",
    "nbeats_model = NBEATSModel(\n",
    "    input_chunk_length=24, \n",
    "    output_chunk_length=12, \n",
    "    batch_size=64,\n",
    "    n_epochs=100, \n",
    "    random_state=7, \n",
    "    optimizer_kwargs={\"lr\": 1e-3},\n",
    "    model_name=\"NBEATS\",\n",
    "    log_tensorboard=True,\n",
    "    pl_trainer_kwargs=pl_trainer_kwargs\n",
    ")\n",
    "nbeats_model.fit(train, val_series=val, verbose=True)"
   ]
  },
  {
   "cell_type": "code",
   "execution_count": 28,
   "id": "b0642103-b121-4ba9-8593-58a68ce9b088",
   "metadata": {},
   "outputs": [
    {
     "data": {
      "image/png": "[encoded data removed]",
      "text/plain": [
       "<Figure size 640x480 with 1 Axes>"
      ]
     },
     "metadata": {},
     "output_type": "display_data"
    }
   ],
   "source": [
    "plt.plot(loss_recorder.train_loss_history, label='Train Loss')\n",
    "plt.plot(loss_recorder.val_loss_history, label='Val Loss')\n",
    "plt.xlabel('Epoch')\n",
    "plt.ylabel('Loss')\n",
    "plt.legend()\n",
    "plt.show()"
   ]
  },
  {
   "cell_type": "code",
   "execution_count": 29,
   "id": "75cc56d9-7773-42e6-8ed9-548b12648f0d",
   "metadata": {},
   "outputs": [
    {
     "data": {
      "text/plain": [
       "174"
      ]
     },
     "execution_count": 29,
     "metadata": {},
     "output_type": "execute_result"
    }
   ],
   "source": [
    "len(val)"
   ]
  },
  {
   "cell_type": "code",
   "execution_count": 30,
   "id": "4e4ff2a1-c01a-44d0-ac71-1da80b147a0f",
   "metadata": {},
   "outputs": [
    {
     "data": {
      "application/vnd.jupyter.widget-view+json": {
       "model_id": "a48b4b1eb2ee420c9bfc40615b400d28",
       "version_major": 2,
       "version_minor": 0
      },
      "text/plain": [
       "Predicting: |                                                                                    | 0/? [00:00<…"
      ]
     },
     "metadata": {},
     "output_type": "display_data"
    }
   ],
   "source": [
    "val_preds = transformer.inverse_transform(nbeats_model.predict(len(val)))"
   ]
  },
  {
   "cell_type": "code",
   "execution_count": 31,
   "id": "04b93de7-27a0-4ed3-bc3d-84fc68a35e96",
   "metadata": {},
   "outputs": [
    {
     "data": {
      "image/png": "[encoded data removed]",
      "text/plain": [
       "<Figure size 640x480 with 1 Axes>"
      ]
     },
     "metadata": {},
     "output_type": "display_data"
    }
   ],
   "source": [
    "series.drop_before(visualizing).plot()\n",
    "val_preds.plot(label=\"forecast\", low_quantile=0.05, high_quantile=0.95)\n",
    "plt.legend()\n",
    "plt.show()"
   ]
  },
  {
   "cell_type": "code",
   "execution_count": 32,
   "id": "e1e2d1fa-c78f-4a36-be17-bb62a0b3868c",
   "metadata": {},
   "outputs": [],
   "source": [
    "loss_recorder = LossRecorder()\n",
    "# stop training when validation loss does not decrease more than 0.05 (`min_delta`) over\n",
    "# a period of 5 epochs (`patience`)\n",
    "early_stopper = EarlyStopping(\n",
    "    monitor=\"val_loss\",\n",
    "    patience=5,\n",
    "    min_delta=0.00001,\n",
    "    mode='min',\n",
    ")\n",
    "\n",
    "pl_trainer_kwargs={\"callbacks\": [early_stopper, loss_recorder]}"
   ]
  },
  {
   "cell_type": "code",
   "execution_count": 33,
   "id": "df0ec142-db7f-4a05-b028-28d3e2c19ba4",
   "metadata": {},
   "outputs": [],
   "source": [
    "from darts.models import RNNModel, BlockRNNModel"
   ]
  },
  {
   "cell_type": "code",
   "execution_count": 34,
   "id": "b2d8d8cd-aa9a-43fc-8e64-6d1dc0a52e6b",
   "metadata": {},
   "outputs": [
    {
     "data": {
      "text/plain": [
       "174"
      ]
     },
     "execution_count": 34,
     "metadata": {},
     "output_type": "execute_result"
    }
   ],
   "source": [
    "len(val)"
   ]
  },
  {
   "cell_type": "code",
   "execution_count": 35,
   "id": "ce9dd993-24ee-4657-8a3e-43f312a0d561",
   "metadata": {},
   "outputs": [],
   "source": [
    "lstm_model = RNNModel(\n",
    "    model=\"LSTM\",\n",
    "    hidden_dim=20,\n",
    "    n_rnn_layers=3,\n",
    "    dropout=0,\n",
    "    batch_size=64,\n",
    "    n_epochs=100,\n",
    "    optimizer_kwargs={\"lr\": 1e-3},\n",
    "    model_name=\"LSTM\",\n",
    "    log_tensorboard=True,\n",
    "    random_state=7,\n",
    "    training_length=int(len(val)/2),\n",
    "    input_chunk_length=int(len(val)/4),\n",
    "    # output_chunk_length=12,\n",
    "    force_reset=True,\n",
    "    save_checkpoints=True,\n",
    "    pl_trainer_kwargs=pl_trainer_kwargs,\n",
    ")\n"
   ]
  },
  {
   "cell_type": "code",
   "execution_count": 36,
   "id": "9582055f-66f6-4bb7-a387-360c6e123ce3",
   "metadata": {},
   "outputs": [
    {
     "name": "stderr",
     "output_type": "stream",
     "text": [
      "\n",
      "  | Name            | Type             | Params | Mode \n",
      "-------------------------------------------------------------\n",
      "0 | criterion       | MSELoss          | 0      | train\n",
      "1 | train_criterion | MSELoss          | 0      | train\n",
      "2 | val_criterion   | MSELoss          | 0      | train\n",
      "3 | train_metrics   | MetricCollection | 0      | train\n",
      "4 | val_metrics     | MetricCollection | 0      | train\n",
      "5 | rnn             | LSTM             | 8.6 K  | train\n",
      "6 | V               | Linear           | 21     | train\n",
      "-------------------------------------------------------------\n",
      "8.6 K     Trainable params\n",
      "0         Non-trainable params\n",
      "8.6 K     Total params\n",
      "0.034     Total estimated model params size (MB)\n",
      "7         Modules in train mode\n",
      "0         Modules in eval mode\n"
     ]
    },
    {
     "data": {
      "application/vnd.jupyter.widget-view+json": {
       "model_id": "096aa809194741f6901b5c38274ae4fc",
       "version_major": 2,
       "version_minor": 0
      },
      "text/plain": [
       "Sanity Checking: |                                                                               | 0/? [00:00<…"
      ]
     },
     "metadata": {},
     "output_type": "display_data"
    },
    {
     "name": "stderr",
     "output_type": "stream",
     "text": [
      "C:\\Users\\avey\\miniforge3\\envs\\astp\\lib\\site-packages\\pytorch_lightning\\loops\\fit_loop.py:310: The number of training batches (23) is smaller than the logging interval Trainer(log_every_n_steps=50). Set a lower value for log_every_n_steps if you want to see logs for the training epoch.\n"
     ]
    },
    {
     "data": {
      "application/vnd.jupyter.widget-view+json": {
       "model_id": "c0f1394ebf01412188af2cc7d27f5b66",
       "version_major": 2,
       "version_minor": 0
      },
      "text/plain": [
       "Training: |                                                                                      | 0/? [00:00<…"
      ]
     },
     "metadata": {},
     "output_type": "display_data"
    },
    {
     "data": {
      "application/vnd.jupyter.widget-view+json": {
       "model_id": "58b3701b70e4435a80f0caade03f696c",
       "version_major": 2,
       "version_minor": 0
      },
      "text/plain": [
       "Validation: |                                                                                    | 0/? [00:00<…"
      ]
     },
     "metadata": {},
     "output_type": "display_data"
    },
    {
     "data": {
      "application/vnd.jupyter.widget-view+json": {
       "model_id": "c377e4ef45cb4fbdafb764a25dce6de6",
       "version_major": 2,
       "version_minor": 0
      },
      "text/plain": [
       "Validation: |                                                                                    | 0/? [00:00<…"
      ]
     },
     "metadata": {},
     "output_type": "display_data"
    },
    {
     "data": {
      "application/vnd.jupyter.widget-view+json": {
       "model_id": "92a5f159fac341bbbb0515cd6143fef7",
       "version_major": 2,
       "version_minor": 0
      },
      "text/plain": [
       "Validation: |                                                                                    | 0/? [00:00<…"
      ]
     },
     "metadata": {},
     "output_type": "display_data"
    },
    {
     "data": {
      "application/vnd.jupyter.widget-view+json": {
       "model_id": "8d522ac3045246469c5441c1cbe6708e",
       "version_major": 2,
       "version_minor": 0
      },
      "text/plain": [
       "Validation: |                                                                                    | 0/? [00:00<…"
      ]
     },
     "metadata": {},
     "output_type": "display_data"
    },
    {
     "data": {
      "application/vnd.jupyter.widget-view+json": {
       "model_id": "75003f35c44f4c9daf90b075fea9b8a3",
       "version_major": 2,
       "version_minor": 0
      },
      "text/plain": [
       "Validation: |                                                                                    | 0/? [00:00<…"
      ]
     },
     "metadata": {},
     "output_type": "display_data"
    },
    {
     "data": {
      "application/vnd.jupyter.widget-view+json": {
       "model_id": "15025b0268d941288b159fab37952a22",
       "version_major": 2,
       "version_minor": 0
      },
      "text/plain": [
       "Validation: |                                                                                    | 0/? [00:00<…"
      ]
     },
     "metadata": {},
     "output_type": "display_data"
    },
    {
     "data": {
      "application/vnd.jupyter.widget-view+json": {
       "model_id": "e837709fa5d04728ada35a22b941652a",
       "version_major": 2,
       "version_minor": 0
      },
      "text/plain": [
       "Validation: |                                                                                    | 0/? [00:00<…"
      ]
     },
     "metadata": {},
     "output_type": "display_data"
    },
    {
     "data": {
      "application/vnd.jupyter.widget-view+json": {
       "model_id": "531535679ee94e1d99d136a43825eaa6",
       "version_major": 2,
       "version_minor": 0
      },
      "text/plain": [
       "Validation: |                                                                                    | 0/? [00:00<…"
      ]
     },
     "metadata": {},
     "output_type": "display_data"
    },
    {
     "data": {
      "application/vnd.jupyter.widget-view+json": {
       "model_id": "665832c112034a1192161b64fbeed6bb",
       "version_major": 2,
       "version_minor": 0
      },
      "text/plain": [
       "Validation: |                                                                                    | 0/? [00:00<…"
      ]
     },
     "metadata": {},
     "output_type": "display_data"
    },
    {
     "data": {
      "application/vnd.jupyter.widget-view+json": {
       "model_id": "1b2e54749a1446dba335d0f8a027a964",
       "version_major": 2,
       "version_minor": 0
      },
      "text/plain": [
       "Validation: |                                                                                    | 0/? [00:00<…"
      ]
     },
     "metadata": {},
     "output_type": "display_data"
    },
    {
     "data": {
      "application/vnd.jupyter.widget-view+json": {
       "model_id": "7af5a85942c1429fad7a1bd1f9a6c749",
       "version_major": 2,
       "version_minor": 0
      },
      "text/plain": [
       "Validation: |                                                                                    | 0/? [00:00<…"
      ]
     },
     "metadata": {},
     "output_type": "display_data"
    },
    {
     "data": {
      "application/vnd.jupyter.widget-view+json": {
       "model_id": "d1cc8a1a70fb47e6aab024e7fb456ca8",
       "version_major": 2,
       "version_minor": 0
      },
      "text/plain": [
       "Validation: |                                                                                    | 0/? [00:00<…"
      ]
     },
     "metadata": {},
     "output_type": "display_data"
    },
    {
     "data": {
      "application/vnd.jupyter.widget-view+json": {
       "model_id": "a5d9ecf3b02d4de38c3476b271d6bb68",
       "version_major": 2,
       "version_minor": 0
      },
      "text/plain": [
       "Validation: |                                                                                    | 0/? [00:00<…"
      ]
     },
     "metadata": {},
     "output_type": "display_data"
    },
    {
     "data": {
      "application/vnd.jupyter.widget-view+json": {
       "model_id": "bd44c8bf0fa642faa5b567f462a23558",
       "version_major": 2,
       "version_minor": 0
      },
      "text/plain": [
       "Validation: |                                                                                    | 0/? [00:00<…"
      ]
     },
     "metadata": {},
     "output_type": "display_data"
    },
    {
     "data": {
      "application/vnd.jupyter.widget-view+json": {
       "model_id": "a73d075e629b4669848244f557527dba",
       "version_major": 2,
       "version_minor": 0
      },
      "text/plain": [
       "Validation: |                                                                                    | 0/? [00:00<…"
      ]
     },
     "metadata": {},
     "output_type": "display_data"
    },
    {
     "data": {
      "application/vnd.jupyter.widget-view+json": {
       "model_id": "d38aca5f52a845f8867b1d835fa943bc",
       "version_major": 2,
       "version_minor": 0
      },
      "text/plain": [
       "Validation: |                                                                                    | 0/? [00:00<…"
      ]
     },
     "metadata": {},
     "output_type": "display_data"
    },
    {
     "data": {
      "application/vnd.jupyter.widget-view+json": {
       "model_id": "82a99c41b1ca4f00b2404cc5ee9f5227",
       "version_major": 2,
       "version_minor": 0
      },
      "text/plain": [
       "Validation: |                                                                                    | 0/? [00:00<…"
      ]
     },
     "metadata": {},
     "output_type": "display_data"
    },
    {
     "data": {
      "application/vnd.jupyter.widget-view+json": {
       "model_id": "e6cf96a3f3334325be7ed4a61f03722d",
       "version_major": 2,
       "version_minor": 0
      },
      "text/plain": [
       "Validation: |                                                                                    | 0/? [00:00<…"
      ]
     },
     "metadata": {},
     "output_type": "display_data"
    },
    {
     "data": {
      "application/vnd.jupyter.widget-view+json": {
       "model_id": "919bec47387144ef9a89e65ee158cab5",
       "version_major": 2,
       "version_minor": 0
      },
      "text/plain": [
       "Validation: |                                                                                    | 0/? [00:00<…"
      ]
     },
     "metadata": {},
     "output_type": "display_data"
    },
    {
     "data": {
      "application/vnd.jupyter.widget-view+json": {
       "model_id": "211404b5bd7a42ae98d7f3a8ba40b291",
       "version_major": 2,
       "version_minor": 0
      },
      "text/plain": [
       "Validation: |                                                                                    | 0/? [00:00<…"
      ]
     },
     "metadata": {},
     "output_type": "display_data"
    },
    {
     "data": {
      "application/vnd.jupyter.widget-view+json": {
       "model_id": "0b1ec432a39d4c218b359a47e67e95c4",
       "version_major": 2,
       "version_minor": 0
      },
      "text/plain": [
       "Validation: |                                                                                    | 0/? [00:00<…"
      ]
     },
     "metadata": {},
     "output_type": "display_data"
    },
    {
     "data": {
      "application/vnd.jupyter.widget-view+json": {
       "model_id": "e9681ab4266e4dfd861fba8621458e43",
       "version_major": 2,
       "version_minor": 0
      },
      "text/plain": [
       "Validation: |                                                                                    | 0/? [00:00<…"
      ]
     },
     "metadata": {},
     "output_type": "display_data"
    },
    {
     "data": {
      "application/vnd.jupyter.widget-view+json": {
       "model_id": "22a26e4f7415417b856a9a292da674ef",
       "version_major": 2,
       "version_minor": 0
      },
      "text/plain": [
       "Validation: |                                                                                    | 0/? [00:00<…"
      ]
     },
     "metadata": {},
     "output_type": "display_data"
    },
    {
     "data": {
      "application/vnd.jupyter.widget-view+json": {
       "model_id": "73091fb666aa423daf9007170c9292d9",
       "version_major": 2,
       "version_minor": 0
      },
      "text/plain": [
       "Validation: |                                                                                    | 0/? [00:00<…"
      ]
     },
     "metadata": {},
     "output_type": "display_data"
    },
    {
     "data": {
      "application/vnd.jupyter.widget-view+json": {
       "model_id": "3b59dd18360e4a5fa56945b618ac619b",
       "version_major": 2,
       "version_minor": 0
      },
      "text/plain": [
       "Validation: |                                                                                    | 0/? [00:00<…"
      ]
     },
     "metadata": {},
     "output_type": "display_data"
    },
    {
     "data": {
      "application/vnd.jupyter.widget-view+json": {
       "model_id": "9e3d7b9516f747bb994a19edfc03fb1f",
       "version_major": 2,
       "version_minor": 0
      },
      "text/plain": [
       "Validation: |                                                                                    | 0/? [00:00<…"
      ]
     },
     "metadata": {},
     "output_type": "display_data"
    },
    {
     "data": {
      "application/vnd.jupyter.widget-view+json": {
       "model_id": "a5dc7552a4fe42c5b3751592a8d63757",
       "version_major": 2,
       "version_minor": 0
      },
      "text/plain": [
       "Validation: |                                                                                    | 0/? [00:00<…"
      ]
     },
     "metadata": {},
     "output_type": "display_data"
    },
    {
     "data": {
      "application/vnd.jupyter.widget-view+json": {
       "model_id": "9dc3cbef4139490aa453e4e1df080b3a",
       "version_major": 2,
       "version_minor": 0
      },
      "text/plain": [
       "Validation: |                                                                                    | 0/? [00:00<…"
      ]
     },
     "metadata": {},
     "output_type": "display_data"
    },
    {
     "data": {
      "application/vnd.jupyter.widget-view+json": {
       "model_id": "d004384790144ed8b0d42d5e3784d80c",
       "version_major": 2,
       "version_minor": 0
      },
      "text/plain": [
       "Validation: |                                                                                    | 0/? [00:00<…"
      ]
     },
     "metadata": {},
     "output_type": "display_data"
    },
    {
     "data": {
      "application/vnd.jupyter.widget-view+json": {
       "model_id": "24e76c2ab6b042a789e598b250c28938",
       "version_major": 2,
       "version_minor": 0
      },
      "text/plain": [
       "Validation: |                                                                                    | 0/? [00:00<…"
      ]
     },
     "metadata": {},
     "output_type": "display_data"
    },
    {
     "data": {
      "application/vnd.jupyter.widget-view+json": {
       "model_id": "155cefb1f8a1403a8039e7353cd04d07",
       "version_major": 2,
       "version_minor": 0
      },
      "text/plain": [
       "Validation: |                                                                                    | 0/? [00:00<…"
      ]
     },
     "metadata": {},
     "output_type": "display_data"
    },
    {
     "data": {
      "application/vnd.jupyter.widget-view+json": {
       "model_id": "21e81a46c3ce4fe6b555c5e0be816aee",
       "version_major": 2,
       "version_minor": 0
      },
      "text/plain": [
       "Validation: |                                                                                    | 0/? [00:00<…"
      ]
     },
     "metadata": {},
     "output_type": "display_data"
    },
    {
     "data": {
      "application/vnd.jupyter.widget-view+json": {
       "model_id": "96705b079908479c991721a279eba269",
       "version_major": 2,
       "version_minor": 0
      },
      "text/plain": [
       "Validation: |                                                                                    | 0/? [00:00<…"
      ]
     },
     "metadata": {},
     "output_type": "display_data"
    },
    {
     "data": {
      "application/vnd.jupyter.widget-view+json": {
       "model_id": "b29486ba1a3d40cfae1c474e34e95300",
       "version_major": 2,
       "version_minor": 0
      },
      "text/plain": [
       "Validation: |                                                                                    | 0/? [00:00<…"
      ]
     },
     "metadata": {},
     "output_type": "display_data"
    },
    {
     "data": {
      "application/vnd.jupyter.widget-view+json": {
       "model_id": "0ba1ab9942214a5a8c224848b24ad272",
       "version_major": 2,
       "version_minor": 0
      },
      "text/plain": [
       "Validation: |                                                                                    | 0/? [00:00<…"
      ]
     },
     "metadata": {},
     "output_type": "display_data"
    },
    {
     "data": {
      "application/vnd.jupyter.widget-view+json": {
       "model_id": "8e2fc327a4c940f7a4575189e990a922",
       "version_major": 2,
       "version_minor": 0
      },
      "text/plain": [
       "Validation: |                                                                                    | 0/? [00:00<…"
      ]
     },
     "metadata": {},
     "output_type": "display_data"
    },
    {
     "data": {
      "application/vnd.jupyter.widget-view+json": {
       "model_id": "37db19fbca2b46daa78fd0ad06d94e09",
       "version_major": 2,
       "version_minor": 0
      },
      "text/plain": [
       "Validation: |                                                                                    | 0/? [00:00<…"
      ]
     },
     "metadata": {},
     "output_type": "display_data"
    },
    {
     "data": {
      "application/vnd.jupyter.widget-view+json": {
       "model_id": "7c39558bf6c843c09090ffc67041476a",
       "version_major": 2,
       "version_minor": 0
      },
      "text/plain": [
       "Validation: |                                                                                    | 0/? [00:00<…"
      ]
     },
     "metadata": {},
     "output_type": "display_data"
    },
    {
     "data": {
      "application/vnd.jupyter.widget-view+json": {
       "model_id": "a0af18ee5bcc4781a0260d768558b988",
       "version_major": 2,
       "version_minor": 0
      },
      "text/plain": [
       "Validation: |                                                                                    | 0/? [00:00<…"
      ]
     },
     "metadata": {},
     "output_type": "display_data"
    },
    {
     "data": {
      "application/vnd.jupyter.widget-view+json": {
       "model_id": "748fb418f73545ceb731f2fa2cf70d44",
       "version_major": 2,
       "version_minor": 0
      },
      "text/plain": [
       "Validation: |                                                                                    | 0/? [00:00<…"
      ]
     },
     "metadata": {},
     "output_type": "display_data"
    },
    {
     "data": {
      "application/vnd.jupyter.widget-view+json": {
       "model_id": "a94e5b4f9c074f5c9f24380d3eebb642",
       "version_major": 2,
       "version_minor": 0
      },
      "text/plain": [
       "Validation: |                                                                                    | 0/? [00:00<…"
      ]
     },
     "metadata": {},
     "output_type": "display_data"
    },
    {
     "data": {
      "application/vnd.jupyter.widget-view+json": {
       "model_id": "f4546c887b1647549ab94481a1a19ac9",
       "version_major": 2,
       "version_minor": 0
      },
      "text/plain": [
       "Validation: |                                                                                    | 0/? [00:00<…"
      ]
     },
     "metadata": {},
     "output_type": "display_data"
    },
    {
     "data": {
      "application/vnd.jupyter.widget-view+json": {
       "model_id": "38f0c27582e0401d8e5a2f494ce51826",
       "version_major": 2,
       "version_minor": 0
      },
      "text/plain": [
       "Validation: |                                                                                    | 0/? [00:00<…"
      ]
     },
     "metadata": {},
     "output_type": "display_data"
    },
    {
     "data": {
      "application/vnd.jupyter.widget-view+json": {
       "model_id": "4ff3c9a707914846927b60a3bda05947",
       "version_major": 2,
       "version_minor": 0
      },
      "text/plain": [
       "Validation: |                                                                                    | 0/? [00:00<…"
      ]
     },
     "metadata": {},
     "output_type": "display_data"
    },
    {
     "data": {
      "application/vnd.jupyter.widget-view+json": {
       "model_id": "58a646b718074c36a5f5dfa36059552c",
       "version_major": 2,
       "version_minor": 0
      },
      "text/plain": [
       "Validation: |                                                                                    | 0/? [00:00<…"
      ]
     },
     "metadata": {},
     "output_type": "display_data"
    },
    {
     "data": {
      "application/vnd.jupyter.widget-view+json": {
       "model_id": "befb5dba3c4843f0b31bdbd100162642",
       "version_major": 2,
       "version_minor": 0
      },
      "text/plain": [
       "Validation: |                                                                                    | 0/? [00:00<…"
      ]
     },
     "metadata": {},
     "output_type": "display_data"
    },
    {
     "data": {
      "application/vnd.jupyter.widget-view+json": {
       "model_id": "57d8ec60e6834e679aeb1cd16656bf56",
       "version_major": 2,
       "version_minor": 0
      },
      "text/plain": [
       "Validation: |                                                                                    | 0/? [00:00<…"
      ]
     },
     "metadata": {},
     "output_type": "display_data"
    },
    {
     "data": {
      "application/vnd.jupyter.widget-view+json": {
       "model_id": "98c795dc010a490d9d3281cc74716825",
       "version_major": 2,
       "version_minor": 0
      },
      "text/plain": [
       "Validation: |                                                                                    | 0/? [00:00<…"
      ]
     },
     "metadata": {},
     "output_type": "display_data"
    },
    {
     "data": {
      "application/vnd.jupyter.widget-view+json": {
       "model_id": "793ca71fb50c47c79db296556767c60a",
       "version_major": 2,
       "version_minor": 0
      },
      "text/plain": [
       "Validation: |                                                                                    | 0/? [00:00<…"
      ]
     },
     "metadata": {},
     "output_type": "display_data"
    },
    {
     "data": {
      "text/plain": [
       "RNNModel(model=LSTM, hidden_dim=20, n_rnn_layers=3, dropout=0, training_length=87, batch_size=64, n_epochs=100, optimizer_kwargs={'lr': 0.001}, model_name=LSTM, log_tensorboard=True, random_state=7, input_chunk_length=43, force_reset=True, save_checkpoints=True, pl_trainer_kwargs={'callbacks': [<pytorch_lightning.callbacks.early_stopping.EarlyStopping object at 0x0000021AF7C8E1D0>, <__main__.LossRecorder object at 0x0000021AF7C8D9F0>]})"
      ]
     },
     "execution_count": 36,
     "metadata": {},
     "output_type": "execute_result"
    }
   ],
   "source": [
    "lstm_model.fit(train, val_series=val, verbose=True)"
   ]
  },
  {
   "cell_type": "code",
   "execution_count": 37,
   "id": "8c69270a-3832-4b21-8027-322e8e6e55bd",
   "metadata": {},
   "outputs": [
    {
     "data": {
      "image/png": "[encoded data removed]",
      "text/plain": [
       "<Figure size 640x480 with 1 Axes>"
      ]
     },
     "metadata": {},
     "output_type": "display_data"
    }
   ],
   "source": [
    "plt.plot(loss_recorder.train_loss_history, label='Train Loss')\n",
    "plt.plot(loss_recorder.val_loss_history, label='Val Loss')\n",
    "plt.xlabel('Epoch')\n",
    "plt.ylabel('Loss')\n",
    "plt.legend()\n",
    "plt.show()"
   ]
  },
  {
   "cell_type": "code",
   "execution_count": 38,
   "id": "9b2198dc-a4b5-4256-8740-3244157e2c69",
   "metadata": {},
   "outputs": [
    {
     "data": {
      "text/plain": [
       "RNNModel(model=LSTM, hidden_dim=20, n_rnn_layers=3, dropout=0, training_length=87, batch_size=64, n_epochs=100, optimizer_kwargs={'lr': 0.001}, model_name=LSTM, log_tensorboard=True, random_state=7, input_chunk_length=43, force_reset=True, save_checkpoints=True, pl_trainer_kwargs={'callbacks': [<pytorch_lightning.callbacks.early_stopping.EarlyStopping object at 0x0000021AF3E8BAF0>, <__main__.LossRecorder object at 0x0000021AF3E8BDC0>]})"
      ]
     },
     "execution_count": 38,
     "metadata": {},
     "output_type": "execute_result"
    }
   ],
   "source": [
    "lstm_model.load_from_checkpoint(\"LSTM\", best=True)"
   ]
  },
  {
   "cell_type": "code",
   "execution_count": 39,
   "id": "37cec69e-d026-48d2-b2f2-a6888ffe9e62",
   "metadata": {},
   "outputs": [
    {
     "data": {
      "application/vnd.jupyter.widget-view+json": {
       "model_id": "97d25ed7d1b34e1aac029da520180e7a",
       "version_major": 2,
       "version_minor": 0
      },
      "text/plain": [
       "Predicting: |                                                                                    | 0/? [00:00<…"
      ]
     },
     "metadata": {},
     "output_type": "display_data"
    }
   ],
   "source": [
    "val_preds = transformer.inverse_transform(lstm_model.predict(len(val)))"
   ]
  },
  {
   "cell_type": "code",
   "execution_count": 40,
   "id": "eae94935-f5e8-4804-9b24-2beec6006455",
   "metadata": {},
   "outputs": [
    {
     "data": {
      "text/plain": [
       "0"
      ]
     },
     "execution_count": 40,
     "metadata": {},
     "output_type": "execute_result"
    }
   ],
   "source": [
    "lstm_model.first_prediction_index"
   ]
  },
  {
   "cell_type": "code",
   "execution_count": 41,
   "id": "34e248f2-d08d-4473-af91-929593b21c14",
   "metadata": {},
   "outputs": [
    {
     "data": {
      "image/png": "[encoded data removed]",
      "text/plain": [
       "<Figure size 640x480 with 1 Axes>"
      ]
     },
     "metadata": {},
     "output_type": "display_data"
    }
   ],
   "source": [
    "series.drop_before(visualizing).plot()\n",
    "val_preds.plot(label=\"val forecast\", low_quantile=0.05, high_quantile=0.95)\n",
    "plt.legend()\n",
    "plt.show()"
   ]
  },
  {
   "cell_type": "markdown",
   "id": "aed03a29-9109-4bad-bb25-e808d2c08caa",
   "metadata": {},
   "source": [
    "# Backtesting NNs"
   ]
  },
  {
   "cell_type": "code",
   "execution_count": 42,
   "id": "ef14ff53-6238-4982-b239-69460e1843c4",
   "metadata": {},
   "outputs": [],
   "source": [
    "def backtest_models(series: TimeSeries, models: list, horizons: list=[1, 3, 7], points_to_test: int=100, verbose=True):\n",
    "    backtest_results = dict()\n",
    "    for horizon in sorted(horizons):\n",
    "        print(f\"Backtesting {horizon} {series.freq} horizon\")\n",
    "        backtests = []\n",
    "        for model in models:\n",
    "            print(f\"Backtesting {model.model_name}\")\n",
    "            backtest = model.historical_forecasts(\n",
    "                transformer.transform(series),\n",
    "                start=len(series) - points_to_test,\n",
    "                forecast_horizon=horizon,\n",
    "                retrain=False,\n",
    "                verbose=verbose,\n",
    "            )\n",
    "            backtest = transformer.inverse_transform(backtest)\n",
    "            backtests.append(backtest)\n",
    "        backtest_results[horizon] = {str(model.model_name): (backtests[i], mape(series, backtests[i])) for i, model in enumerate(models)}\n",
    "    return backtest_results"
   ]
  },
  {
   "cell_type": "code",
   "execution_count": 43,
   "id": "88134a6a-28a9-4855-92b1-7ba3dd420856",
   "metadata": {},
   "outputs": [],
   "source": [
    "def plot_backtest_results(series: TimeSeries, backtest_results: dict, points_to_test: int=100):\n",
    "    for horizon, model in backtest_results.items():\n",
    "        series.drop_before(len(series) - 2*points_to_test).plot(label='data')\n",
    "        for model_name, (backtest, mape) in model.items():\n",
    "            backtest.plot(lw=3, label=f'{model_name}, MAPE={mape:.2f}%')\n",
    "        plt.title(f'Backtests with {horizon} {series.freq} forecast horizon')\n",
    "        plt.legend()\n",
    "        plt.show()"
   ]
  },
  {
   "cell_type": "code",
   "execution_count": 44,
   "id": "cf8feb13-4307-4800-91ab-59c21e4ac12f",
   "metadata": {},
   "outputs": [],
   "source": [
    "models = [nbeats_model, lstm_model]"
   ]
  },
  {
   "cell_type": "code",
   "execution_count": 45,
   "id": "80db94c9-f1ec-4b1f-bd42-251dbbd55ba7",
   "metadata": {
    "scrolled": true
   },
   "outputs": [
    {
     "name": "stdout",
     "output_type": "stream",
     "text": [
      "Backtesting 1 <Day> horizon\n",
      "Backtesting NBEATS\n"
     ]
    },
    {
     "data": {
      "application/vnd.jupyter.widget-view+json": {
       "model_id": "ae361bfc5a454bf69dce191b02550474",
       "version_major": 2,
       "version_minor": 0
      },
      "text/plain": [
       "Predicting: |                                                                                    | 0/? [00:00<…"
      ]
     },
     "metadata": {},
     "output_type": "display_data"
    },
    {
     "name": "stdout",
     "output_type": "stream",
     "text": [
      "Backtesting LSTM\n"
     ]
    },
    {
     "data": {
      "application/vnd.jupyter.widget-view+json": {
       "model_id": "cd2c6c8a2b11491c83b5e3376d883528",
       "version_major": 2,
       "version_minor": 0
      },
      "text/plain": [
       "Predicting: |                                                                                    | 0/? [00:00<…"
      ]
     },
     "metadata": {},
     "output_type": "display_data"
    },
    {
     "name": "stdout",
     "output_type": "stream",
     "text": [
      "Backtesting 3 <Day> horizon\n",
      "Backtesting NBEATS\n"
     ]
    },
    {
     "data": {
      "application/vnd.jupyter.widget-view+json": {
       "model_id": "4c816102c0ce4480bfdee77e17bb3e9e",
       "version_major": 2,
       "version_minor": 0
      },
      "text/plain": [
       "Predicting: |                                                                                    | 0/? [00:00<…"
      ]
     },
     "metadata": {},
     "output_type": "display_data"
    },
    {
     "name": "stdout",
     "output_type": "stream",
     "text": [
      "Backtesting LSTM\n"
     ]
    },
    {
     "data": {
      "application/vnd.jupyter.widget-view+json": {
       "model_id": "24c1fcddc8ed44fb999031f7e74273f0",
       "version_major": 2,
       "version_minor": 0
      },
      "text/plain": [
       "Predicting: |                                                                                    | 0/? [00:00<…"
      ]
     },
     "metadata": {},
     "output_type": "display_data"
    },
    {
     "name": "stdout",
     "output_type": "stream",
     "text": [
      "Backtesting 7 <Day> horizon\n",
      "Backtesting NBEATS\n"
     ]
    },
    {
     "data": {
      "application/vnd.jupyter.widget-view+json": {
       "model_id": "ea1654fe29b54707b9f3b4e90a6ae80a",
       "version_major": 2,
       "version_minor": 0
      },
      "text/plain": [
       "Predicting: |                                                                                    | 0/? [00:00<…"
      ]
     },
     "metadata": {},
     "output_type": "display_data"
    },
    {
     "name": "stdout",
     "output_type": "stream",
     "text": [
      "Backtesting LSTM\n"
     ]
    },
    {
     "data": {
      "application/vnd.jupyter.widget-view+json": {
       "model_id": "f6ccf25cdb22448b9d74ee7ebc9ab648",
       "version_major": 2,
       "version_minor": 0
      },
      "text/plain": [
       "Predicting: |                                                                                    | 0/? [00:00<…"
      ]
     },
     "metadata": {},
     "output_type": "display_data"
    }
   ],
   "source": [
    "results = backtest_models(series, models=models)"
   ]
  },
  {
   "cell_type": "code",
   "execution_count": 46,
   "id": "861a4f1e-adc5-4d1d-aa63-4daf7d7d00f6",
   "metadata": {
    "scrolled": true
   },
   "outputs": [
    {
     "data": {
      "image/png": "[encoded data removed]",
      "text/plain": [
       "<Figure size 640x480 with 1 Axes>"
      ]
     },
     "metadata": {},
     "output_type": "display_data"
    },
    {
     "data": {
      "image/png": "[encoded data removed]",
      "text/plain": [
       "<Figure size 640x480 with 1 Axes>"
      ]
     },
     "metadata": {},
     "output_type": "display_data"
    },
    {
     "data": {
      "image/png": "[encoded data removed]",
      "text/plain": [
       "<Figure size 640x480 with 1 Axes>"
      ]
     },
     "metadata": {},
     "output_type": "display_data"
    }
   ],
   "source": [
    "plot_backtest_results(series, results)"
   ]
  },
  {
   "cell_type": "code",
   "execution_count": 47,
   "id": "6cc32203-5e83-4707-b2d2-3a92cb0e74ef",
   "metadata": {},
   "outputs": [],
   "source": [
    "import optuna"
   ]
  },
  {
   "cell_type": "code",
   "execution_count": 48,
   "id": "52581c2e-8521-4b66-a8a5-63e35bbb89e0",
   "metadata": {},
   "outputs": [],
   "source": [
    "def train_RNN(params):\n",
    "    early_stopper = EarlyStopping(\n",
    "        monitor=\"val_loss\",\n",
    "        patience=5,\n",
    "        min_delta=0.05,\n",
    "        mode='min',\n",
    "    )\n",
    "    pl_trainer_kwargs={\"callbacks\": [early_stopper]}\n",
    "    \n",
    "    model = RNNModel(\n",
    "        **params,\n",
    "        n_epochs=100,\n",
    "        model_name=params[\"model\"],\n",
    "        log_tensorboard=True,\n",
    "        random_state=7,\n",
    "        training_length=int(len(val)/2),\n",
    "        force_reset=True,\n",
    "        save_checkpoints=True,\n",
    "        pl_trainer_kwargs=pl_trainer_kwargs,\n",
    "    )\n",
    "    model.fit(train, val_series=val, verbose=False)\n",
    "    model.load_from_checkpoint(params[\"model\"], best=True)\n",
    "    return model"
   ]
  },
  {
   "cell_type": "code",
   "execution_count": 49,
   "id": "fb5e0309-c5b3-46c0-bba3-ad1698231af6",
   "metadata": {},
   "outputs": [],
   "source": [
    "def optimize_RNN(trial: optuna.Trial):\n",
    "    params = {\n",
    "        \"model\": trial.suggest_categorical(\"model\", [\"RNN\", \"GRU\", \"LSTM\"]),\n",
    "        \"hidden_dim\": trial.suggest_int(\"hidden_dim\", 2, 50),\n",
    "        \"n_rnn_layers\": trial.suggest_int(\"n_rnn_layers\", 1, 5),\n",
    "        \"dropout\": trial.suggest_float(\"dropout\", 0, 0.3),\n",
    "        \"batch_size\": trial.suggest_int(\"batch_size/16\", 1, 5) * 16,  # will be multiplied by 16\n",
    "        \"input_chunk_length\": trial.suggest_int(\"input_chunk_length\", 1, int(len(val)/4)),\n",
    "        \"optimizer_kwargs\": {\n",
    "            \"lr\": trial.suggest_float(\"learning_rate\", 1e-5, 1e-1, log=True)\n",
    "        }\n",
    "    }\n",
    "    if params[\"n_rnn_layers\"] == 1:\n",
    "        params[\"dropout\"] = 0\n",
    "        \n",
    "    trial.set_user_attr(\"model_params\", params)\n",
    "    \n",
    "    model = train_RNN(params)\n",
    "    backtests = backtest_models(series[val.time_index], models=[model], horizons=[1, 2, 3, 5, 7])\n",
    "    results = [model_dict[params[\"model\"]][1]/(horizon**0.5) for horizon, model_dict in backtests.items()]\n",
    "    \n",
    "    return sum(results) / len(results)"
   ]
  },
  {
   "cell_type": "code",
   "execution_count": 50,
   "id": "41763bcb-9acb-411e-b338-2897bb5c5cba",
   "metadata": {},
   "outputs": [
    {
     "name": "stderr",
     "output_type": "stream",
     "text": [
      "[I 2025-05-12 19:39:57,218] Using an existing study with name 'Job_Postings_avg_RNNfamily_study' instead of creating a new one.\n"
     ]
    }
   ],
   "source": [
    "# Create optuna study with defined function and storage\n",
    "study = optuna.create_study(\n",
    "    direction=\"minimize\",\n",
    "    storage=storage,\n",
    "    study_name=f\"{series_name}_avg_RNNfamily_study\",\n",
    "    load_if_exists=True\n",
    ")"
   ]
  },
  {
   "cell_type": "code",
   "execution_count": 51,
   "id": "8a30cf4e-0437-4c0b-b15e-5c83890d59d6",
   "metadata": {
    "scrolled": true
   },
   "outputs": [
    {
     "name": "stderr",
     "output_type": "stream",
     "text": [
      "C:\\Users\\avey\\miniforge3\\envs\\astp\\lib\\site-packages\\pytorch_lightning\\loops\\fit_loop.py:310: The number of training batches (46) is smaller than the logging interval Trainer(log_every_n_steps=50). Set a lower value for log_every_n_steps if you want to see logs for the training epoch.\n"
     ]
    },
    {
     "name": "stdout",
     "output_type": "stream",
     "text": [
      "Backtesting 1 <Day> horizon\n",
      "Backtesting GRU\n"
     ]
    },
    {
     "data": {
      "application/vnd.jupyter.widget-view+json": {
       "model_id": "2106d5d767b44a86b8608560f084040a",
       "version_major": 2,
       "version_minor": 0
      },
      "text/plain": [
       "Predicting: |                                                                                    | 0/? [00:00<…"
      ]
     },
     "metadata": {},
     "output_type": "display_data"
    },
    {
     "name": "stdout",
     "output_type": "stream",
     "text": [
      "Backtesting 2 <Day> horizon\n",
      "Backtesting GRU\n"
     ]
    },
    {
     "data": {
      "application/vnd.jupyter.widget-view+json": {
       "model_id": "1358ef1078e94cf3bf42857ca4ea2015",
       "version_major": 2,
       "version_minor": 0
      },
      "text/plain": [
       "Predicting: |                                                                                    | 0/? [00:00<…"
      ]
     },
     "metadata": {},
     "output_type": "display_data"
    },
    {
     "name": "stdout",
     "output_type": "stream",
     "text": [
      "Backtesting 3 <Day> horizon\n",
      "Backtesting GRU\n"
     ]
    },
    {
     "data": {
      "application/vnd.jupyter.widget-view+json": {
       "model_id": "a21facbe856f4629a4cf65d19c0faa3e",
       "version_major": 2,
       "version_minor": 0
      },
      "text/plain": [
       "Predicting: |                                                                                    | 0/? [00:00<…"
      ]
     },
     "metadata": {},
     "output_type": "display_data"
    },
    {
     "name": "stdout",
     "output_type": "stream",
     "text": [
      "Backtesting 5 <Day> horizon\n",
      "Backtesting GRU\n"
     ]
    },
    {
     "data": {
      "application/vnd.jupyter.widget-view+json": {
       "model_id": "47f79bc2bd5e4a8889322ba1f8f1bc15",
       "version_major": 2,
       "version_minor": 0
      },
      "text/plain": [
       "Predicting: |                                                                                    | 0/? [00:00<…"
      ]
     },
     "metadata": {},
     "output_type": "display_data"
    },
    {
     "name": "stdout",
     "output_type": "stream",
     "text": [
      "Backtesting 7 <Day> horizon\n",
      "Backtesting GRU\n"
     ]
    },
    {
     "data": {
      "application/vnd.jupyter.widget-view+json": {
       "model_id": "d84542c1995e495f996a3af1f61ad12b",
       "version_major": 2,
       "version_minor": 0
      },
      "text/plain": [
       "Predicting: |                                                                                    | 0/? [00:00<…"
      ]
     },
     "metadata": {},
     "output_type": "display_data"
    },
    {
     "name": "stderr",
     "output_type": "stream",
     "text": [
      "[I 2025-05-12 19:40:00,427] Trial 100 finished with value: 0.3393138965818994 and parameters: {'model': 'GRU', 'hidden_dim': 30, 'n_rnn_layers': 1, 'dropout': 0.14184757358729994, 'batch_size/16': 2, 'input_chunk_length': 24, 'learning_rate': 0.0054944652746999455}. Best is trial 94 with value: 0.32455306851239163.\n",
      "C:\\Users\\avey\\miniforge3\\envs\\astp\\lib\\site-packages\\pytorch_lightning\\loops\\fit_loop.py:310: The number of training batches (46) is smaller than the logging interval Trainer(log_every_n_steps=50). Set a lower value for log_every_n_steps if you want to see logs for the training epoch.\n"
     ]
    },
    {
     "name": "stdout",
     "output_type": "stream",
     "text": [
      "Backtesting 1 <Day> horizon\n",
      "Backtesting GRU\n"
     ]
    },
    {
     "data": {
      "application/vnd.jupyter.widget-view+json": {
       "model_id": "325a02619f80489bafe2a9cc1160a9ad",
       "version_major": 2,
       "version_minor": 0
      },
      "text/plain": [
       "Predicting: |                                                                                    | 0/? [00:00<…"
      ]
     },
     "metadata": {},
     "output_type": "display_data"
    },
    {
     "name": "stdout",
     "output_type": "stream",
     "text": [
      "Backtesting 2 <Day> horizon\n",
      "Backtesting GRU\n"
     ]
    },
    {
     "data": {
      "application/vnd.jupyter.widget-view+json": {
       "model_id": "9838177c9fb045b18d5fc97a6345a901",
       "version_major": 2,
       "version_minor": 0
      },
      "text/plain": [
       "Predicting: |                                                                                    | 0/? [00:00<…"
      ]
     },
     "metadata": {},
     "output_type": "display_data"
    },
    {
     "name": "stdout",
     "output_type": "stream",
     "text": [
      "Backtesting 3 <Day> horizon\n",
      "Backtesting GRU\n"
     ]
    },
    {
     "data": {
      "application/vnd.jupyter.widget-view+json": {
       "model_id": "414bf9c989ed46c38ecb573a76dc39c1",
       "version_major": 2,
       "version_minor": 0
      },
      "text/plain": [
       "Predicting: |                                                                                    | 0/? [00:00<…"
      ]
     },
     "metadata": {},
     "output_type": "display_data"
    },
    {
     "name": "stdout",
     "output_type": "stream",
     "text": [
      "Backtesting 5 <Day> horizon\n",
      "Backtesting GRU\n"
     ]
    },
    {
     "data": {
      "application/vnd.jupyter.widget-view+json": {
       "model_id": "f54052a38e8246bdbc15005f03c48a09",
       "version_major": 2,
       "version_minor": 0
      },
      "text/plain": [
       "Predicting: |                                                                                    | 0/? [00:00<…"
      ]
     },
     "metadata": {},
     "output_type": "display_data"
    },
    {
     "name": "stdout",
     "output_type": "stream",
     "text": [
      "Backtesting 7 <Day> horizon\n",
      "Backtesting GRU\n"
     ]
    },
    {
     "data": {
      "application/vnd.jupyter.widget-view+json": {
       "model_id": "6918ae3f080d42fba61f418399378e5a",
       "version_major": 2,
       "version_minor": 0
      },
      "text/plain": [
       "Predicting: |                                                                                    | 0/? [00:00<…"
      ]
     },
     "metadata": {},
     "output_type": "display_data"
    },
    {
     "name": "stderr",
     "output_type": "stream",
     "text": [
      "[I 2025-05-12 19:40:03,610] Trial 101 finished with value: 0.33196941697658644 and parameters: {'model': 'GRU', 'hidden_dim': 30, 'n_rnn_layers': 1, 'dropout': 0.14412303318495237, 'batch_size/16': 2, 'input_chunk_length': 24, 'learning_rate': 0.008965493466962087}. Best is trial 94 with value: 0.32455306851239163.\n",
      "C:\\Users\\avey\\miniforge3\\envs\\astp\\lib\\site-packages\\pytorch_lightning\\loops\\fit_loop.py:310: The number of training batches (46) is smaller than the logging interval Trainer(log_every_n_steps=50). Set a lower value for log_every_n_steps if you want to see logs for the training epoch.\n"
     ]
    },
    {
     "name": "stdout",
     "output_type": "stream",
     "text": [
      "Backtesting 1 <Day> horizon\n",
      "Backtesting GRU\n"
     ]
    },
    {
     "data": {
      "application/vnd.jupyter.widget-view+json": {
       "model_id": "6cd8007dc97745238df22413f8fef72e",
       "version_major": 2,
       "version_minor": 0
      },
      "text/plain": [
       "Predicting: |                                                                                    | 0/? [00:00<…"
      ]
     },
     "metadata": {},
     "output_type": "display_data"
    },
    {
     "name": "stdout",
     "output_type": "stream",
     "text": [
      "Backtesting 2 <Day> horizon\n",
      "Backtesting GRU\n"
     ]
    },
    {
     "data": {
      "application/vnd.jupyter.widget-view+json": {
       "model_id": "32452b0e6cbb48619d3f1aab9735a3b7",
       "version_major": 2,
       "version_minor": 0
      },
      "text/plain": [
       "Predicting: |                                                                                    | 0/? [00:00<…"
      ]
     },
     "metadata": {},
     "output_type": "display_data"
    },
    {
     "name": "stdout",
     "output_type": "stream",
     "text": [
      "Backtesting 3 <Day> horizon\n",
      "Backtesting GRU\n"
     ]
    },
    {
     "data": {
      "application/vnd.jupyter.widget-view+json": {
       "model_id": "f709cb5942884d5b88af4dbff07fa503",
       "version_major": 2,
       "version_minor": 0
      },
      "text/plain": [
       "Predicting: |                                                                                    | 0/? [00:00<…"
      ]
     },
     "metadata": {},
     "output_type": "display_data"
    },
    {
     "name": "stdout",
     "output_type": "stream",
     "text": [
      "Backtesting 5 <Day> horizon\n",
      "Backtesting GRU\n"
     ]
    },
    {
     "data": {
      "application/vnd.jupyter.widget-view+json": {
       "model_id": "f1743888306540ada63de1a20ee07264",
       "version_major": 2,
       "version_minor": 0
      },
      "text/plain": [
       "Predicting: |                                                                                    | 0/? [00:00<…"
      ]
     },
     "metadata": {},
     "output_type": "display_data"
    },
    {
     "name": "stdout",
     "output_type": "stream",
     "text": [
      "Backtesting 7 <Day> horizon\n",
      "Backtesting GRU\n"
     ]
    },
    {
     "data": {
      "application/vnd.jupyter.widget-view+json": {
       "model_id": "965d8ec783c84a2cacb46dacd1d5e251",
       "version_major": 2,
       "version_minor": 0
      },
      "text/plain": [
       "Predicting: |                                                                                    | 0/? [00:00<…"
      ]
     },
     "metadata": {},
     "output_type": "display_data"
    },
    {
     "name": "stderr",
     "output_type": "stream",
     "text": [
      "[I 2025-05-12 19:40:06,673] Trial 102 finished with value: 0.4078872120563572 and parameters: {'model': 'GRU', 'hidden_dim': 29, 'n_rnn_layers': 1, 'dropout': 0.1459597627140873, 'batch_size/16': 2, 'input_chunk_length': 24, 'learning_rate': 0.005519086226387049}. Best is trial 94 with value: 0.32455306851239163.\n",
      "C:\\Users\\avey\\miniforge3\\envs\\astp\\lib\\site-packages\\pytorch_lightning\\loops\\fit_loop.py:310: The number of training batches (46) is smaller than the logging interval Trainer(log_every_n_steps=50). Set a lower value for log_every_n_steps if you want to see logs for the training epoch.\n"
     ]
    },
    {
     "name": "stdout",
     "output_type": "stream",
     "text": [
      "Backtesting 1 <Day> horizon\n",
      "Backtesting GRU\n"
     ]
    },
    {
     "data": {
      "application/vnd.jupyter.widget-view+json": {
       "model_id": "eabea3afa8804b3ca7fa9d8c76548e32",
       "version_major": 2,
       "version_minor": 0
      },
      "text/plain": [
       "Predicting: |                                                                                    | 0/? [00:00<…"
      ]
     },
     "metadata": {},
     "output_type": "display_data"
    },
    {
     "name": "stdout",
     "output_type": "stream",
     "text": [
      "Backtesting 2 <Day> horizon\n",
      "Backtesting GRU\n"
     ]
    },
    {
     "data": {
      "application/vnd.jupyter.widget-view+json": {
       "model_id": "6ddea5f3720b4eaca86c0010c08a8d57",
       "version_major": 2,
       "version_minor": 0
      },
      "text/plain": [
       "Predicting: |                                                                                    | 0/? [00:00<…"
      ]
     },
     "metadata": {},
     "output_type": "display_data"
    },
    {
     "name": "stdout",
     "output_type": "stream",
     "text": [
      "Backtesting 3 <Day> horizon\n",
      "Backtesting GRU\n"
     ]
    },
    {
     "data": {
      "application/vnd.jupyter.widget-view+json": {
       "model_id": "39f32b3f245a496eb2b915b2f4347baa",
       "version_major": 2,
       "version_minor": 0
      },
      "text/plain": [
       "Predicting: |                                                                                    | 0/? [00:00<…"
      ]
     },
     "metadata": {},
     "output_type": "display_data"
    },
    {
     "name": "stdout",
     "output_type": "stream",
     "text": [
      "Backtesting 5 <Day> horizon\n",
      "Backtesting GRU\n"
     ]
    },
    {
     "data": {
      "application/vnd.jupyter.widget-view+json": {
       "model_id": "8527538dbf914145b47aecfda7bcb451",
       "version_major": 2,
       "version_minor": 0
      },
      "text/plain": [
       "Predicting: |                                                                                    | 0/? [00:00<…"
      ]
     },
     "metadata": {},
     "output_type": "display_data"
    },
    {
     "name": "stdout",
     "output_type": "stream",
     "text": [
      "Backtesting 7 <Day> horizon\n",
      "Backtesting GRU\n"
     ]
    },
    {
     "data": {
      "application/vnd.jupyter.widget-view+json": {
       "model_id": "25040605bd6f48278da393a7ed390c46",
       "version_major": 2,
       "version_minor": 0
      },
      "text/plain": [
       "Predicting: |                                                                                    | 0/? [00:00<…"
      ]
     },
     "metadata": {},
     "output_type": "display_data"
    },
    {
     "name": "stderr",
     "output_type": "stream",
     "text": [
      "[I 2025-05-12 19:40:09,893] Trial 103 finished with value: 0.3334463911850559 and parameters: {'model': 'GRU', 'hidden_dim': 30, 'n_rnn_layers': 1, 'dropout': 0.12110989368399444, 'batch_size/16': 2, 'input_chunk_length': 25, 'learning_rate': 0.009060123655061982}. Best is trial 94 with value: 0.32455306851239163.\n",
      "C:\\Users\\avey\\miniforge3\\envs\\astp\\lib\\site-packages\\pytorch_lightning\\loops\\fit_loop.py:310: The number of training batches (46) is smaller than the logging interval Trainer(log_every_n_steps=50). Set a lower value for log_every_n_steps if you want to see logs for the training epoch.\n"
     ]
    },
    {
     "name": "stdout",
     "output_type": "stream",
     "text": [
      "Backtesting 1 <Day> horizon\n",
      "Backtesting GRU\n"
     ]
    },
    {
     "data": {
      "application/vnd.jupyter.widget-view+json": {
       "model_id": "c0a47a9d51f2458f9e3434ac2aee2161",
       "version_major": 2,
       "version_minor": 0
      },
      "text/plain": [
       "Predicting: |                                                                                    | 0/? [00:00<…"
      ]
     },
     "metadata": {},
     "output_type": "display_data"
    },
    {
     "name": "stdout",
     "output_type": "stream",
     "text": [
      "Backtesting 2 <Day> horizon\n",
      "Backtesting GRU\n"
     ]
    },
    {
     "data": {
      "application/vnd.jupyter.widget-view+json": {
       "model_id": "79376981b1454529bf0cf819099d6708",
       "version_major": 2,
       "version_minor": 0
      },
      "text/plain": [
       "Predicting: |                                                                                    | 0/? [00:00<…"
      ]
     },
     "metadata": {},
     "output_type": "display_data"
    },
    {
     "name": "stdout",
     "output_type": "stream",
     "text": [
      "Backtesting 3 <Day> horizon\n",
      "Backtesting GRU\n"
     ]
    },
    {
     "data": {
      "application/vnd.jupyter.widget-view+json": {
       "model_id": "361aa9d389cf4f51ba1fbdda70cf942e",
       "version_major": 2,
       "version_minor": 0
      },
      "text/plain": [
       "Predicting: |                                                                                    | 0/? [00:00<…"
      ]
     },
     "metadata": {},
     "output_type": "display_data"
    },
    {
     "name": "stdout",
     "output_type": "stream",
     "text": [
      "Backtesting 5 <Day> horizon\n",
      "Backtesting GRU\n"
     ]
    },
    {
     "data": {
      "application/vnd.jupyter.widget-view+json": {
       "model_id": "a06fc2f5ef9f457aac865645220bf6e3",
       "version_major": 2,
       "version_minor": 0
      },
      "text/plain": [
       "Predicting: |                                                                                    | 0/? [00:00<…"
      ]
     },
     "metadata": {},
     "output_type": "display_data"
    },
    {
     "name": "stdout",
     "output_type": "stream",
     "text": [
      "Backtesting 7 <Day> horizon\n",
      "Backtesting GRU\n"
     ]
    },
    {
     "data": {
      "application/vnd.jupyter.widget-view+json": {
       "model_id": "68a0b7b5a6164c4d9db7d1dbde5babeb",
       "version_major": 2,
       "version_minor": 0
      },
      "text/plain": [
       "Predicting: |                                                                                    | 0/? [00:00<…"
      ]
     },
     "metadata": {},
     "output_type": "display_data"
    },
    {
     "name": "stderr",
     "output_type": "stream",
     "text": [
      "[I 2025-05-12 19:40:13,110] Trial 104 finished with value: 0.3986504920420644 and parameters: {'model': 'GRU', 'hidden_dim': 30, 'n_rnn_layers': 1, 'dropout': 0.11883355279705013, 'batch_size/16': 2, 'input_chunk_length': 25, 'learning_rate': 0.004167777601157807}. Best is trial 94 with value: 0.32455306851239163.\n",
      "C:\\Users\\avey\\miniforge3\\envs\\astp\\lib\\site-packages\\pytorch_lightning\\loops\\fit_loop.py:310: The number of training batches (46) is smaller than the logging interval Trainer(log_every_n_steps=50). Set a lower value for log_every_n_steps if you want to see logs for the training epoch.\n"
     ]
    },
    {
     "name": "stdout",
     "output_type": "stream",
     "text": [
      "Backtesting 1 <Day> horizon\n",
      "Backtesting GRU\n"
     ]
    },
    {
     "data": {
      "application/vnd.jupyter.widget-view+json": {
       "model_id": "89dd4f5639a94bbb952667514a2a1037",
       "version_major": 2,
       "version_minor": 0
      },
      "text/plain": [
       "Predicting: |                                                                                    | 0/? [00:00<…"
      ]
     },
     "metadata": {},
     "output_type": "display_data"
    },
    {
     "name": "stdout",
     "output_type": "stream",
     "text": [
      "Backtesting 2 <Day> horizon\n",
      "Backtesting GRU\n"
     ]
    },
    {
     "data": {
      "application/vnd.jupyter.widget-view+json": {
       "model_id": "cd932d262ea84b818845db2bd297f84c",
       "version_major": 2,
       "version_minor": 0
      },
      "text/plain": [
       "Predicting: |                                                                                    | 0/? [00:00<…"
      ]
     },
     "metadata": {},
     "output_type": "display_data"
    },
    {
     "name": "stdout",
     "output_type": "stream",
     "text": [
      "Backtesting 3 <Day> horizon\n",
      "Backtesting GRU\n"
     ]
    },
    {
     "data": {
      "application/vnd.jupyter.widget-view+json": {
       "model_id": "e19225d9b166492195cb61ec0bf10a2a",
       "version_major": 2,
       "version_minor": 0
      },
      "text/plain": [
       "Predicting: |                                                                                    | 0/? [00:00<…"
      ]
     },
     "metadata": {},
     "output_type": "display_data"
    },
    {
     "name": "stdout",
     "output_type": "stream",
     "text": [
      "Backtesting 5 <Day> horizon\n",
      "Backtesting GRU\n"
     ]
    },
    {
     "data": {
      "application/vnd.jupyter.widget-view+json": {
       "model_id": "566107d03c4b4af79dbb81583afce4bd",
       "version_major": 2,
       "version_minor": 0
      },
      "text/plain": [
       "Predicting: |                                                                                    | 0/? [00:00<…"
      ]
     },
     "metadata": {},
     "output_type": "display_data"
    },
    {
     "name": "stdout",
     "output_type": "stream",
     "text": [
      "Backtesting 7 <Day> horizon\n",
      "Backtesting GRU\n"
     ]
    },
    {
     "data": {
      "application/vnd.jupyter.widget-view+json": {
       "model_id": "aba149ac700a4c7eb64f4bc04d8f46e1",
       "version_major": 2,
       "version_minor": 0
      },
      "text/plain": [
       "Predicting: |                                                                                    | 0/? [00:00<…"
      ]
     },
     "metadata": {},
     "output_type": "display_data"
    },
    {
     "name": "stderr",
     "output_type": "stream",
     "text": [
      "[I 2025-05-12 19:40:16,312] Trial 105 finished with value: 0.3116467114217075 and parameters: {'model': 'GRU', 'hidden_dim': 28, 'n_rnn_layers': 1, 'dropout': 0.10679562038892641, 'batch_size/16': 2, 'input_chunk_length': 21, 'learning_rate': 0.008529542139070912}. Best is trial 105 with value: 0.3116467114217075.\n",
      "C:\\Users\\avey\\miniforge3\\envs\\astp\\lib\\site-packages\\pytorch_lightning\\loops\\fit_loop.py:310: The number of training batches (46) is smaller than the logging interval Trainer(log_every_n_steps=50). Set a lower value for log_every_n_steps if you want to see logs for the training epoch.\n"
     ]
    },
    {
     "name": "stdout",
     "output_type": "stream",
     "text": [
      "Backtesting 1 <Day> horizon\n",
      "Backtesting GRU\n"
     ]
    },
    {
     "data": {
      "application/vnd.jupyter.widget-view+json": {
       "model_id": "37807b5613fb4815bf5fcb53d56f9e5f",
       "version_major": 2,
       "version_minor": 0
      },
      "text/plain": [
       "Predicting: |                                                                                    | 0/? [00:00<…"
      ]
     },
     "metadata": {},
     "output_type": "display_data"
    },
    {
     "name": "stdout",
     "output_type": "stream",
     "text": [
      "Backtesting 2 <Day> horizon\n",
      "Backtesting GRU\n"
     ]
    },
    {
     "data": {
      "application/vnd.jupyter.widget-view+json": {
       "model_id": "adb9a29898b04191a396969b2662ba23",
       "version_major": 2,
       "version_minor": 0
      },
      "text/plain": [
       "Predicting: |                                                                                    | 0/? [00:00<…"
      ]
     },
     "metadata": {},
     "output_type": "display_data"
    },
    {
     "name": "stdout",
     "output_type": "stream",
     "text": [
      "Backtesting 3 <Day> horizon\n",
      "Backtesting GRU\n"
     ]
    },
    {
     "data": {
      "application/vnd.jupyter.widget-view+json": {
       "model_id": "98146d27a788465c80a087f5c8defc89",
       "version_major": 2,
       "version_minor": 0
      },
      "text/plain": [
       "Predicting: |                                                                                    | 0/? [00:00<…"
      ]
     },
     "metadata": {},
     "output_type": "display_data"
    },
    {
     "name": "stdout",
     "output_type": "stream",
     "text": [
      "Backtesting 5 <Day> horizon\n",
      "Backtesting GRU\n"
     ]
    },
    {
     "data": {
      "application/vnd.jupyter.widget-view+json": {
       "model_id": "3c5323b63dd24a8183e951f688ef2459",
       "version_major": 2,
       "version_minor": 0
      },
      "text/plain": [
       "Predicting: |                                                                                    | 0/? [00:00<…"
      ]
     },
     "metadata": {},
     "output_type": "display_data"
    },
    {
     "name": "stdout",
     "output_type": "stream",
     "text": [
      "Backtesting 7 <Day> horizon\n",
      "Backtesting GRU\n"
     ]
    },
    {
     "data": {
      "application/vnd.jupyter.widget-view+json": {
       "model_id": "f331968c91e04286b27ebd469eb49e06",
       "version_major": 2,
       "version_minor": 0
      },
      "text/plain": [
       "Predicting: |                                                                                    | 0/? [00:00<…"
      ]
     },
     "metadata": {},
     "output_type": "display_data"
    },
    {
     "name": "stderr",
     "output_type": "stream",
     "text": [
      "[I 2025-05-12 19:40:19,501] Trial 106 finished with value: 0.3161911707161759 and parameters: {'model': 'GRU', 'hidden_dim': 28, 'n_rnn_layers': 1, 'dropout': 0.1594386552797395, 'batch_size/16': 2, 'input_chunk_length': 21, 'learning_rate': 0.009081780759621667}. Best is trial 105 with value: 0.3116467114217075.\n",
      "C:\\Users\\avey\\miniforge3\\envs\\astp\\lib\\site-packages\\pytorch_lightning\\loops\\fit_loop.py:310: The number of training batches (46) is smaller than the logging interval Trainer(log_every_n_steps=50). Set a lower value for log_every_n_steps if you want to see logs for the training epoch.\n"
     ]
    },
    {
     "name": "stdout",
     "output_type": "stream",
     "text": [
      "Backtesting 1 <Day> horizon\n",
      "Backtesting GRU\n"
     ]
    },
    {
     "data": {
      "application/vnd.jupyter.widget-view+json": {
       "model_id": "04777002100b4544969aae91cd5cf25a",
       "version_major": 2,
       "version_minor": 0
      },
      "text/plain": [
       "Predicting: |                                                                                    | 0/? [00:00<…"
      ]
     },
     "metadata": {},
     "output_type": "display_data"
    },
    {
     "name": "stdout",
     "output_type": "stream",
     "text": [
      "Backtesting 2 <Day> horizon\n",
      "Backtesting GRU\n"
     ]
    },
    {
     "data": {
      "application/vnd.jupyter.widget-view+json": {
       "model_id": "aadfb3de8952456f93c0d35ca085372d",
       "version_major": 2,
       "version_minor": 0
      },
      "text/plain": [
       "Predicting: |                                                                                    | 0/? [00:00<…"
      ]
     },
     "metadata": {},
     "output_type": "display_data"
    },
    {
     "name": "stdout",
     "output_type": "stream",
     "text": [
      "Backtesting 3 <Day> horizon\n",
      "Backtesting GRU\n"
     ]
    },
    {
     "data": {
      "application/vnd.jupyter.widget-view+json": {
       "model_id": "88cf78f17cda453fbf34a99d46975251",
       "version_major": 2,
       "version_minor": 0
      },
      "text/plain": [
       "Predicting: |                                                                                    | 0/? [00:00<…"
      ]
     },
     "metadata": {},
     "output_type": "display_data"
    },
    {
     "name": "stdout",
     "output_type": "stream",
     "text": [
      "Backtesting 5 <Day> horizon\n",
      "Backtesting GRU\n"
     ]
    },
    {
     "data": {
      "application/vnd.jupyter.widget-view+json": {
       "model_id": "fc4130319ed14ea893f590a40fcaef7d",
       "version_major": 2,
       "version_minor": 0
      },
      "text/plain": [
       "Predicting: |                                                                                    | 0/? [00:00<…"
      ]
     },
     "metadata": {},
     "output_type": "display_data"
    },
    {
     "name": "stdout",
     "output_type": "stream",
     "text": [
      "Backtesting 7 <Day> horizon\n",
      "Backtesting GRU\n"
     ]
    },
    {
     "data": {
      "application/vnd.jupyter.widget-view+json": {
       "model_id": "c8c4373331234d76b85fea5023ae0c6c",
       "version_major": 2,
       "version_minor": 0
      },
      "text/plain": [
       "Predicting: |                                                                                    | 0/? [00:00<…"
      ]
     },
     "metadata": {},
     "output_type": "display_data"
    },
    {
     "name": "stderr",
     "output_type": "stream",
     "text": [
      "[I 2025-05-12 19:40:22,497] Trial 107 finished with value: 0.38944087728035537 and parameters: {'model': 'GRU', 'hidden_dim': 27, 'n_rnn_layers': 1, 'dropout': 0.16076498781747905, 'batch_size/16': 2, 'input_chunk_length': 21, 'learning_rate': 0.01063989650201417}. Best is trial 105 with value: 0.3116467114217075.\n",
      "C:\\Users\\avey\\miniforge3\\envs\\astp\\lib\\site-packages\\pytorch_lightning\\loops\\fit_loop.py:310: The number of training batches (46) is smaller than the logging interval Trainer(log_every_n_steps=50). Set a lower value for log_every_n_steps if you want to see logs for the training epoch.\n"
     ]
    },
    {
     "name": "stdout",
     "output_type": "stream",
     "text": [
      "Backtesting 1 <Day> horizon\n",
      "Backtesting GRU\n"
     ]
    },
    {
     "data": {
      "application/vnd.jupyter.widget-view+json": {
       "model_id": "5c1e1b49a820496197a116e088aee617",
       "version_major": 2,
       "version_minor": 0
      },
      "text/plain": [
       "Predicting: |                                                                                    | 0/? [00:00<…"
      ]
     },
     "metadata": {},
     "output_type": "display_data"
    },
    {
     "name": "stdout",
     "output_type": "stream",
     "text": [
      "Backtesting 2 <Day> horizon\n",
      "Backtesting GRU\n"
     ]
    },
    {
     "data": {
      "application/vnd.jupyter.widget-view+json": {
       "model_id": "2d871aa8a0ea4db79a1a595911b61dac",
       "version_major": 2,
       "version_minor": 0
      },
      "text/plain": [
       "Predicting: |                                                                                    | 0/? [00:00<…"
      ]
     },
     "metadata": {},
     "output_type": "display_data"
    },
    {
     "name": "stdout",
     "output_type": "stream",
     "text": [
      "Backtesting 3 <Day> horizon\n",
      "Backtesting GRU\n"
     ]
    },
    {
     "data": {
      "application/vnd.jupyter.widget-view+json": {
       "model_id": "eafe9355d22045a6a02b7dd51be78036",
       "version_major": 2,
       "version_minor": 0
      },
      "text/plain": [
       "Predicting: |                                                                                    | 0/? [00:00<…"
      ]
     },
     "metadata": {},
     "output_type": "display_data"
    },
    {
     "name": "stdout",
     "output_type": "stream",
     "text": [
      "Backtesting 5 <Day> horizon\n",
      "Backtesting GRU\n"
     ]
    },
    {
     "data": {
      "application/vnd.jupyter.widget-view+json": {
       "model_id": "851330d17d114d3eaf32500ae1bb3e25",
       "version_major": 2,
       "version_minor": 0
      },
      "text/plain": [
       "Predicting: |                                                                                    | 0/? [00:00<…"
      ]
     },
     "metadata": {},
     "output_type": "display_data"
    },
    {
     "name": "stdout",
     "output_type": "stream",
     "text": [
      "Backtesting 7 <Day> horizon\n",
      "Backtesting GRU\n"
     ]
    },
    {
     "data": {
      "application/vnd.jupyter.widget-view+json": {
       "model_id": "ca5d9976b0eb4cc2937160e9d72a54e1",
       "version_major": 2,
       "version_minor": 0
      },
      "text/plain": [
       "Predicting: |                                                                                    | 0/? [00:00<…"
      ]
     },
     "metadata": {},
     "output_type": "display_data"
    },
    {
     "name": "stderr",
     "output_type": "stream",
     "text": [
      "[I 2025-05-12 19:40:25,679] Trial 108 finished with value: 0.36503216036780517 and parameters: {'model': 'GRU', 'hidden_dim': 28, 'n_rnn_layers': 1, 'dropout': 0.14224437170235532, 'batch_size/16': 2, 'input_chunk_length': 18, 'learning_rate': 0.0038015302577131503}. Best is trial 105 with value: 0.3116467114217075.\n",
      "C:\\Users\\avey\\miniforge3\\envs\\astp\\lib\\site-packages\\pytorch_lightning\\loops\\fit_loop.py:310: The number of training batches (46) is smaller than the logging interval Trainer(log_every_n_steps=50). Set a lower value for log_every_n_steps if you want to see logs for the training epoch.\n"
     ]
    },
    {
     "name": "stdout",
     "output_type": "stream",
     "text": [
      "Backtesting 1 <Day> horizon\n",
      "Backtesting GRU\n"
     ]
    },
    {
     "data": {
      "application/vnd.jupyter.widget-view+json": {
       "model_id": "3f1c9d9d06c440429174488589b6a6ff",
       "version_major": 2,
       "version_minor": 0
      },
      "text/plain": [
       "Predicting: |                                                                                    | 0/? [00:00<…"
      ]
     },
     "metadata": {},
     "output_type": "display_data"
    },
    {
     "name": "stdout",
     "output_type": "stream",
     "text": [
      "Backtesting 2 <Day> horizon\n",
      "Backtesting GRU\n"
     ]
    },
    {
     "data": {
      "application/vnd.jupyter.widget-view+json": {
       "model_id": "d2a4bec561c94c4fa8d93821bf2b5f6e",
       "version_major": 2,
       "version_minor": 0
      },
      "text/plain": [
       "Predicting: |                                                                                    | 0/? [00:00<…"
      ]
     },
     "metadata": {},
     "output_type": "display_data"
    },
    {
     "name": "stdout",
     "output_type": "stream",
     "text": [
      "Backtesting 3 <Day> horizon\n",
      "Backtesting GRU\n"
     ]
    },
    {
     "data": {
      "application/vnd.jupyter.widget-view+json": {
       "model_id": "3d5ca7ff8ad24e73be5970c750f1909a",
       "version_major": 2,
       "version_minor": 0
      },
      "text/plain": [
       "Predicting: |                                                                                    | 0/? [00:00<…"
      ]
     },
     "metadata": {},
     "output_type": "display_data"
    },
    {
     "name": "stdout",
     "output_type": "stream",
     "text": [
      "Backtesting 5 <Day> horizon\n",
      "Backtesting GRU\n"
     ]
    },
    {
     "data": {
      "application/vnd.jupyter.widget-view+json": {
       "model_id": "2b590f4afe8d4ff197540244b6c6064a",
       "version_major": 2,
       "version_minor": 0
      },
      "text/plain": [
       "Predicting: |                                                                                    | 0/? [00:00<…"
      ]
     },
     "metadata": {},
     "output_type": "display_data"
    },
    {
     "name": "stdout",
     "output_type": "stream",
     "text": [
      "Backtesting 7 <Day> horizon\n",
      "Backtesting GRU\n"
     ]
    },
    {
     "data": {
      "application/vnd.jupyter.widget-view+json": {
       "model_id": "37a50723571f4808b16644a1254724bc",
       "version_major": 2,
       "version_minor": 0
      },
      "text/plain": [
       "Predicting: |                                                                                    | 0/? [00:00<…"
      ]
     },
     "metadata": {},
     "output_type": "display_data"
    },
    {
     "name": "stderr",
     "output_type": "stream",
     "text": [
      "[I 2025-05-12 19:40:29,010] Trial 109 finished with value: 0.8901915754386858 and parameters: {'model': 'GRU', 'hidden_dim': 24, 'n_rnn_layers': 1, 'dropout': 0.13574504196454237, 'batch_size/16': 2, 'input_chunk_length': 21, 'learning_rate': 0.0030619088861666894}. Best is trial 105 with value: 0.3116467114217075.\n"
     ]
    }
   ],
   "source": [
    "# Optimize for n_trials, using one thread, timeout of 5 min\n",
    "study.optimize(optimize_RNN, n_trials=100, n_jobs=1, timeout=30)"
   ]
  },
  {
   "cell_type": "code",
   "execution_count": 52,
   "id": "b3c68088-8d5d-471a-abce-f16dcc215821",
   "metadata": {},
   "outputs": [
    {
     "data": {
      "text/plain": [
       "FrozenTrial(number=105, state=TrialState.COMPLETE, values=[0.3116467114217075], datetime_start=datetime.datetime(2025, 5, 12, 19, 40, 13, 110770), datetime_complete=datetime.datetime(2025, 5, 12, 19, 40, 16, 304222), params={'model': 'GRU', 'hidden_dim': 28, 'n_rnn_layers': 1, 'dropout': 0.10679562038892641, 'batch_size/16': 2, 'input_chunk_length': 21, 'learning_rate': 0.008529542139070912}, user_attrs={'model_params': {'model': 'GRU', 'hidden_dim': 28, 'n_rnn_layers': 1, 'dropout': 0, 'batch_size': 32, 'input_chunk_length': 21, 'optimizer_kwargs': {'lr': 0.008529542139070912}}}, system_attrs={}, intermediate_values={}, distributions={'model': CategoricalDistribution(choices=('RNN', 'GRU', 'LSTM')), 'hidden_dim': IntDistribution(high=50, log=False, low=2, step=1), 'n_rnn_layers': IntDistribution(high=5, log=False, low=1, step=1), 'dropout': FloatDistribution(high=0.3, log=False, low=0.0, step=None), 'batch_size/16': IntDistribution(high=5, log=False, low=1, step=1), 'input_chunk_length': IntDistribution(high=43, log=False, low=1, step=1), 'learning_rate': FloatDistribution(high=0.1, log=True, low=1e-05, step=None)}, trial_id=1411, value=None)"
      ]
     },
     "execution_count": 52,
     "metadata": {},
     "output_type": "execute_result"
    }
   ],
   "source": [
    "study.best_trial"
   ]
  },
  {
   "cell_type": "code",
   "execution_count": 53,
   "id": "39f78089-cdec-4d28-9af8-2a7bc280d703",
   "metadata": {},
   "outputs": [
    {
     "name": "stderr",
     "output_type": "stream",
     "text": [
      "C:\\Users\\avey\\miniforge3\\envs\\astp\\lib\\site-packages\\pytorch_lightning\\loops\\fit_loop.py:310: The number of training batches (46) is smaller than the logging interval Trainer(log_every_n_steps=50). Set a lower value for log_every_n_steps if you want to see logs for the training epoch.\n"
     ]
    }
   ],
   "source": [
    "best_model = train_RNN(study.best_trial.user_attrs[\"model_params\"])"
   ]
  },
  {
   "cell_type": "code",
   "execution_count": 54,
   "id": "4f2fe98e-e156-4616-8b18-78a93d10b85d",
   "metadata": {
    "scrolled": true
   },
   "outputs": [
    {
     "name": "stdout",
     "output_type": "stream",
     "text": [
      "Backtesting 1 <Day> horizon\n",
      "Backtesting GRU\n"
     ]
    },
    {
     "data": {
      "application/vnd.jupyter.widget-view+json": {
       "model_id": "ce83b3873afd4b09b8057f66fdf02454",
       "version_major": 2,
       "version_minor": 0
      },
      "text/plain": [
       "Predicting: |                                                                                    | 0/? [00:00<…"
      ]
     },
     "metadata": {},
     "output_type": "display_data"
    },
    {
     "name": "stdout",
     "output_type": "stream",
     "text": [
      "Backtesting 2 <Day> horizon\n",
      "Backtesting GRU\n"
     ]
    },
    {
     "data": {
      "application/vnd.jupyter.widget-view+json": {
       "model_id": "a1379c46c74e432ea6f521b8c87397c1",
       "version_major": 2,
       "version_minor": 0
      },
      "text/plain": [
       "Predicting: |                                                                                    | 0/? [00:00<…"
      ]
     },
     "metadata": {},
     "output_type": "display_data"
    },
    {
     "name": "stdout",
     "output_type": "stream",
     "text": [
      "Backtesting 3 <Day> horizon\n",
      "Backtesting GRU\n"
     ]
    },
    {
     "data": {
      "application/vnd.jupyter.widget-view+json": {
       "model_id": "c2780b7dbba6488ca8171c09dd478b10",
       "version_major": 2,
       "version_minor": 0
      },
      "text/plain": [
       "Predicting: |                                                                                    | 0/? [00:00<…"
      ]
     },
     "metadata": {},
     "output_type": "display_data"
    },
    {
     "name": "stdout",
     "output_type": "stream",
     "text": [
      "Backtesting 5 <Day> horizon\n",
      "Backtesting GRU\n"
     ]
    },
    {
     "data": {
      "application/vnd.jupyter.widget-view+json": {
       "model_id": "a2e9e33f3f904cffb2ab57875e6b9335",
       "version_major": 2,
       "version_minor": 0
      },
      "text/plain": [
       "Predicting: |                                                                                    | 0/? [00:00<…"
      ]
     },
     "metadata": {},
     "output_type": "display_data"
    },
    {
     "name": "stdout",
     "output_type": "stream",
     "text": [
      "Backtesting 7 <Day> horizon\n",
      "Backtesting GRU\n"
     ]
    },
    {
     "data": {
      "application/vnd.jupyter.widget-view+json": {
       "model_id": "3e0437af7482462d970e4fc4cc9575d2",
       "version_major": 2,
       "version_minor": 0
      },
      "text/plain": [
       "Predicting: |                                                                                    | 0/? [00:00<…"
      ]
     },
     "metadata": {},
     "output_type": "display_data"
    },
    {
     "name": "stdout",
     "output_type": "stream",
     "text": [
      "Backtesting 15 <Day> horizon\n",
      "Backtesting GRU\n"
     ]
    },
    {
     "data": {
      "application/vnd.jupyter.widget-view+json": {
       "model_id": "58de4da573fe4ea9ab738a5b623df0b4",
       "version_major": 2,
       "version_minor": 0
      },
      "text/plain": [
       "Predicting: |                                                                                    | 0/? [00:00<…"
      ]
     },
     "metadata": {},
     "output_type": "display_data"
    },
    {
     "name": "stdout",
     "output_type": "stream",
     "text": [
      "Backtesting 30 <Day> horizon\n",
      "Backtesting GRU\n"
     ]
    },
    {
     "data": {
      "application/vnd.jupyter.widget-view+json": {
       "model_id": "b72f4c50b2d84bda8316f35bedbc93ea",
       "version_major": 2,
       "version_minor": 0
      },
      "text/plain": [
       "Predicting: |                                                                                    | 0/? [00:00<…"
      ]
     },
     "metadata": {},
     "output_type": "display_data"
    }
   ],
   "source": [
    "results = backtest_models(series[test.time_index], models=[best_model], horizons=[1, 2, 3, 5, 7, 15, 30], points_to_test=75)"
   ]
  },
  {
   "cell_type": "code",
   "execution_count": 55,
   "id": "b4a1a1d7-df43-4ec8-ac21-6073fe3e95dc",
   "metadata": {},
   "outputs": [
    {
     "data": {
      "image/png": "[encoded data removed]",
      "text/plain": [
       "<Figure size 640x480 with 1 Axes>"
      ]
     },
     "metadata": {},
     "output_type": "display_data"
    },
    {
     "data": {
      "image/png": "[encoded data removed]",
      "text/plain": [
       "<Figure size 640x480 with 1 Axes>"
      ]
     },
     "metadata": {},
     "output_type": "display_data"
    },
    {
     "data": {
      "image/png": "[encoded data removed]",
      "text/plain": [
       "<Figure size 640x480 with 1 Axes>"
      ]
     },
     "metadata": {},
     "output_type": "display_data"
    },
    {
     "data": {
      "image/png": "[encoded data removed]",
      "text/plain": [
       "<Figure size 640x480 with 1 Axes>"
      ]
     },
     "metadata": {},
     "output_type": "display_data"
    },
    {
     "data": {
      "image/png": "[encoded data removed]",
      "text/plain": [
       "<Figure size 640x480 with 1 Axes>"
      ]
     },
     "metadata": {},
     "output_type": "display_data"
    },
    {
     "data": {
      "image/png": "[encoded data removed]",
      "text/plain": [
       "<Figure size 640x480 with 1 Axes>"
      ]
     },
     "metadata": {},
     "output_type": "display_data"
    },
    {
     "data": {
      "image/png": "[encoded data removed]",
      "text/plain": [
       "<Figure size 640x480 with 1 Axes>"
      ]
     },
     "metadata": {},
     "output_type": "display_data"
    }
   ],
   "source": [
    "plot_backtest_results(series[test.time_index], results, points_to_test=75)"
   ]
  },
  {
   "cell_type": "raw",
   "id": "5d1d986d-1c39-41c0-8809-9089cfefede8",
   "metadata": {},
   "source": [
    "def reload_best_model(study: optuna.Study):\n",
    "    params = study.best_params\n",
    "    params.pop(\"learning_rate\")\n",
    "    model = RNNModel(**params,\n",
    "                    training_length=)\n",
    "    model.load_from_checkpoint(params[\"model\"], best=True)\n",
    "    return model"
   ]
  },
  {
   "cell_type": "raw",
   "id": "7f76ea7d-8792-4f58-9358-26b12a6d01ed",
   "metadata": {},
   "source": [
    "reload_best_model(study)"
   ]
  }
 ],
 "metadata": {
  "kernelspec": {
   "display_name": "Python 3 (ipykernel)",
   "language": "python",
   "name": "python3"
  },
  "language_info": {
   "codemirror_mode": {
    "name": "ipython",
    "version": 3
   },
   "file_extension": ".py",
   "mimetype": "text/x-python",
   "name": "python",
   "nbconvert_exporter": "python",
   "pygments_lexer": "ipython3",
   "version": "3.10.16"
  }
 },
 "nbformat": 4,
 "nbformat_minor": 5
}
