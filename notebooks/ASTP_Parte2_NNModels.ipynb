{
 "cells": [
  {
   "cell_type": "code",
   "execution_count": 1,
   "id": "b845e62d-4f8d-4e36-a032-51633268b069",
   "metadata": {},
   "outputs": [],
   "source": [
    "from fredapi import Fred\n",
    "import numpy as np\n",
    "import pandas as pd\n",
    "import matplotlib.pyplot as plt"
   ]
  },
  {
   "cell_type": "code",
   "execution_count": 2,
   "id": "db2c8cb2-e01d-40f5-b91b-2416620f7682",
   "metadata": {},
   "outputs": [],
   "source": [
    "from collections import OrderedDict\n",
    "from pandas.plotting import register_matplotlib_converters\n",
    "from statsmodels.tsa.stattools import adfuller, kpss, bds\n",
    "from statsmodels.tsa.seasonal import seasonal_decompose\n",
    "from statsmodels.graphics.tsaplots import plot_acf, plot_pacf\n",
    "from statsmodels.stats.diagnostic import het_arch\n",
    "from statsmodels.graphics.gofplots import qqplot\n",
    "from scipy.stats import skewtest, kurtosistest, skew, kurtosis, boxcox\n",
    "from pathlib import Path\n",
    "import os"
   ]
  },
  {
   "cell_type": "code",
   "execution_count": 3,
   "id": "5b5f931a-823a-41d8-bd8f-c65307a836d6",
   "metadata": {},
   "outputs": [],
   "source": [
    "import os\n",
    "\n",
    "os.environ['OMP_NUM_THREADS'] = '1'"
   ]
  },
  {
   "cell_type": "code",
   "execution_count": 4,
   "id": "f50c7646-79ab-4d62-bfda-2fc3027b5eac",
   "metadata": {},
   "outputs": [],
   "source": [
    "from darts import TimeSeries\n",
    "from darts.utils import statistics"
   ]
  },
  {
   "cell_type": "code",
   "execution_count": 5,
   "id": "c0f819b7-cac3-4d60-9a6e-fbba8edb1684",
   "metadata": {},
   "outputs": [],
   "source": [
    "fred = Fred(api_key=\"8ede227d95e33c5cdf2ea8a83577bc0a\")"
   ]
  },
  {
   "cell_type": "code",
   "execution_count": 6,
   "id": "882336b1-2a0d-4582-9af8-7feaa14773cf",
   "metadata": {},
   "outputs": [],
   "source": [
    "fred_series_ids = [\"IHLIDXNSAGB\", \"IRLTLT01GBM156N\", \"QGBN628BIS\", \"UKNGDP\", \"GBRCPIALLMINMEI\"]"
   ]
  },
  {
   "cell_type": "code",
   "execution_count": 7,
   "id": "327efe3e-5e67-4ee4-845b-09d23bb95344",
   "metadata": {},
   "outputs": [],
   "source": [
    "fred_series_metadata = []\n",
    "fred_series_list = []\n",
    "for series in fred_series_ids:\n",
    "    metadata = fred.get_series_info(series)\n",
    "    series = fred.get_series(series).rename(metadata[\"title\"])\n",
    "    fred_series_metadata.append(metadata)\n",
    "    fred_series_list.append(series)"
   ]
  },
  {
   "cell_type": "raw",
   "id": "1766f27c-3b03-44b9-b564-cfde093428a3",
   "metadata": {
    "scrolled": true
   },
   "source": [
    "fred_series_metadata"
   ]
  },
  {
   "cell_type": "code",
   "execution_count": 8,
   "id": "cd4ffc48-f23c-41fd-87b2-eba223c7d746",
   "metadata": {},
   "outputs": [],
   "source": [
    "economic_uncertainty = pd.read_csv(\"../data/UK_Daily_Policy_Data.csv\")"
   ]
  },
  {
   "cell_type": "code",
   "execution_count": 9,
   "id": "63854f6a-7551-4c67-abc7-baec2493c53e",
   "metadata": {},
   "outputs": [],
   "source": [
    "economic_uncertainty[\"date\"] = pd.to_datetime(economic_uncertainty.drop(\"daily_policy_index\", axis=1))\n",
    "economic_uncertainty = economic_uncertainty.drop([\"day\", \"month\", \"year\"], axis=1).set_index(\"date\").squeeze()"
   ]
  },
  {
   "cell_type": "code",
   "execution_count": 10,
   "id": "79dbd190-f1a1-43aa-8ed1-8fdc6fc85801",
   "metadata": {},
   "outputs": [],
   "source": [
    "data = fred_series_list.copy()\n",
    "data.append(economic_uncertainty)"
   ]
  },
  {
   "cell_type": "code",
   "execution_count": 11,
   "id": "99631f9b-bc25-4092-8f35-f20694c5b950",
   "metadata": {},
   "outputs": [],
   "source": [
    "data_ts = [TimeSeries.from_series(series) for series in data]"
   ]
  },
  {
   "cell_type": "code",
   "execution_count": 12,
   "id": "896a15a0-5f20-4dbe-af7d-66ae70bd6b7e",
   "metadata": {},
   "outputs": [
    {
     "name": "stdout",
     "output_type": "stream",
     "text": [
      "0 Job Postings on Indeed in the United Kingdom\n",
      "1 Interest Rates: Long-Term Government Bond Yields: 10-Year: Main (Including Benchmark) for United Kingdom\n",
      "2 Residential Property Prices for United Kingdom\n",
      "3 Gross Domestic Product for United Kingdom\n",
      "4 Consumer Price Indices (CPIs, HICPs), COICOP 1999: Consumer Price Index: Total for United Kingdom\n",
      "5 UK_Daily_Policy_Data\n"
     ]
    }
   ],
   "source": [
    "[print(str(idx) + \" \" + series.title) for idx, series in enumerate(fred_series_metadata)]\n",
    "print(str(len(data_ts) - 1) + \" \" + \"UK_Daily_Policy_Data\")"
   ]
  },
  {
   "cell_type": "code",
   "execution_count": 13,
   "id": "b64dabf8-6e9b-4e2a-b48d-38b6c4690bd6",
   "metadata": {},
   "outputs": [],
   "source": [
    "series = data_ts[0]"
   ]
  },
  {
   "cell_type": "code",
   "execution_count": 14,
   "id": "79b26ef7-be58-454a-a79f-4babb8e3b269",
   "metadata": {},
   "outputs": [],
   "source": [
    "splitting = 0.95\n",
    "visualizing = 0.9"
   ]
  },
  {
   "cell_type": "code",
   "execution_count": 15,
   "id": "79b954c2-4e40-4257-a265-bb8eca536d6d",
   "metadata": {},
   "outputs": [],
   "source": [
    "train, val = series.split_before(splitting)"
   ]
  },
  {
   "cell_type": "code",
   "execution_count": 16,
   "id": "9928c0d1-ab12-4a89-85ad-51f034182a58",
   "metadata": {},
   "outputs": [
    {
     "name": "stdout",
     "output_type": "stream",
     "text": [
      "NVIDIA GeForce RTX 5070 Ti\n"
     ]
    }
   ],
   "source": [
    "import torch\n",
    "for i in range(torch.cuda.device_count()):\n",
    "   print(torch.cuda.get_device_properties(i).name)\n",
    "torch.set_float32_matmul_precision('high')"
   ]
  },
  {
   "cell_type": "code",
   "execution_count": 17,
   "id": "75db5588-c32b-424d-af7b-2764c5dd4161",
   "metadata": {},
   "outputs": [],
   "source": [
    "from pytorch_lightning.callbacks.early_stopping import EarlyStopping\n",
    "\n",
    "# stop training when validation loss does not decrease more than 0.05 (`min_delta`) over\n",
    "# a period of 5 epochs (`patience`)\n",
    "early_stopper = EarlyStopping(\n",
    "    monitor=\"val_loss\",\n",
    "    patience=5,\n",
    "    min_delta=0.05,\n",
    "    mode='min',\n",
    ")\n",
    "\n",
    "pl_trainer_kwargs={\"callbacks\": [early_stopper]}"
   ]
  },
  {
   "cell_type": "code",
   "execution_count": 18,
   "id": "efba6087-8db8-4fd4-b8a1-1492388f3b7e",
   "metadata": {},
   "outputs": [
    {
     "name": "stderr",
     "output_type": "stream",
     "text": [
      "GPU available: True (cuda), used: True\n",
      "TPU available: False, using: 0 TPU cores\n",
      "HPU available: False, using: 0 HPUs\n",
      "LOCAL_RANK: 0 - CUDA_VISIBLE_DEVICES: [0]\n",
      "\n",
      "  | Name            | Type             | Params | Mode \n",
      "-------------------------------------------------------------\n",
      "0 | criterion       | MSELoss          | 0      | train\n",
      "1 | train_criterion | MSELoss          | 0      | train\n",
      "2 | val_criterion   | MSELoss          | 0      | train\n",
      "3 | train_metrics   | MetricCollection | 0      | train\n",
      "4 | val_metrics     | MetricCollection | 0      | train\n",
      "5 | stacks          | ModuleList       | 6.2 M  | train\n",
      "-------------------------------------------------------------\n",
      "6.2 M     Trainable params\n",
      "1.4 K     Non-trainable params\n",
      "6.2 M     Total params\n",
      "24.787    Total estimated model params size (MB)\n",
      "396       Modules in train mode\n",
      "0         Modules in eval mode\n"
     ]
    },
    {
     "data": {
      "application/vnd.jupyter.widget-view+json": {
       "model_id": "8c184a143f874eb4ba0f6035f6800d3d",
       "version_major": 2,
       "version_minor": 0
      },
      "text/plain": [
       "Sanity Checking: |                                                                               | 0/? [00:00<…"
      ]
     },
     "metadata": {},
     "output_type": "display_data"
    },
    {
     "data": {
      "application/vnd.jupyter.widget-view+json": {
       "model_id": "f2cd1f6a8bb84a50bf1d0b959697b258",
       "version_major": 2,
       "version_minor": 0
      },
      "text/plain": [
       "Training: |                                                                                      | 0/? [00:00<…"
      ]
     },
     "metadata": {},
     "output_type": "display_data"
    },
    {
     "data": {
      "application/vnd.jupyter.widget-view+json": {
       "model_id": "7c0d60761d90446dbe2a7a21210a79dd",
       "version_major": 2,
       "version_minor": 0
      },
      "text/plain": [
       "Validation: |                                                                                    | 0/? [00:00<…"
      ]
     },
     "metadata": {},
     "output_type": "display_data"
    },
    {
     "data": {
      "application/vnd.jupyter.widget-view+json": {
       "model_id": "b40b11ac56ef4b029c0fc0269d997f65",
       "version_major": 2,
       "version_minor": 0
      },
      "text/plain": [
       "Validation: |                                                                                    | 0/? [00:00<…"
      ]
     },
     "metadata": {},
     "output_type": "display_data"
    },
    {
     "data": {
      "application/vnd.jupyter.widget-view+json": {
       "model_id": "e142fbd257364a03955dd4c828f6b984",
       "version_major": 2,
       "version_minor": 0
      },
      "text/plain": [
       "Validation: |                                                                                    | 0/? [00:00<…"
      ]
     },
     "metadata": {},
     "output_type": "display_data"
    },
    {
     "data": {
      "application/vnd.jupyter.widget-view+json": {
       "model_id": "4e4d0785609b4ccf92583f281f15ca70",
       "version_major": 2,
       "version_minor": 0
      },
      "text/plain": [
       "Validation: |                                                                                    | 0/? [00:00<…"
      ]
     },
     "metadata": {},
     "output_type": "display_data"
    },
    {
     "data": {
      "application/vnd.jupyter.widget-view+json": {
       "model_id": "f22968f5cf674a2e9a6f406c5b04df07",
       "version_major": 2,
       "version_minor": 0
      },
      "text/plain": [
       "Validation: |                                                                                    | 0/? [00:00<…"
      ]
     },
     "metadata": {},
     "output_type": "display_data"
    },
    {
     "data": {
      "application/vnd.jupyter.widget-view+json": {
       "model_id": "da975135895345fca8c17ae80aa22fed",
       "version_major": 2,
       "version_minor": 0
      },
      "text/plain": [
       "Validation: |                                                                                    | 0/? [00:00<…"
      ]
     },
     "metadata": {},
     "output_type": "display_data"
    },
    {
     "data": {
      "application/vnd.jupyter.widget-view+json": {
       "model_id": "771f4a73cf7c4f9083ea9b8d6035564a",
       "version_major": 2,
       "version_minor": 0
      },
      "text/plain": [
       "Validation: |                                                                                    | 0/? [00:00<…"
      ]
     },
     "metadata": {},
     "output_type": "display_data"
    },
    {
     "data": {
      "application/vnd.jupyter.widget-view+json": {
       "model_id": "aa652e393ddd449891ed554eea896f8a",
       "version_major": 2,
       "version_minor": 0
      },
      "text/plain": [
       "Validation: |                                                                                    | 0/? [00:00<…"
      ]
     },
     "metadata": {},
     "output_type": "display_data"
    },
    {
     "data": {
      "application/vnd.jupyter.widget-view+json": {
       "model_id": "e7a80e82022c4258adea94b462b010a5",
       "version_major": 2,
       "version_minor": 0
      },
      "text/plain": [
       "Validation: |                                                                                    | 0/? [00:00<…"
      ]
     },
     "metadata": {},
     "output_type": "display_data"
    },
    {
     "data": {
      "application/vnd.jupyter.widget-view+json": {
       "model_id": "e198ec9eb7fa40c4989eccf3e49e2531",
       "version_major": 2,
       "version_minor": 0
      },
      "text/plain": [
       "Validation: |                                                                                    | 0/? [00:00<…"
      ]
     },
     "metadata": {},
     "output_type": "display_data"
    },
    {
     "data": {
      "text/plain": [
       "NBEATSModel(output_chunk_shift=0, generic_architecture=True, num_stacks=30, num_blocks=1, num_layers=4, layer_widths=256, expansion_coefficient_dim=5, trend_polynomial_degree=2, dropout=0.0, activation=ReLU, input_chunk_length=24, output_chunk_length=12, n_epochs=100, random_state=0, model_name=NBEATS, log_tensorboard=True, pl_trainer_kwargs={'callbacks': [<pytorch_lightning.callbacks.early_stopping.EarlyStopping object at 0x0000020821E83A30>]})"
      ]
     },
     "execution_count": 18,
     "metadata": {},
     "output_type": "execute_result"
    }
   ],
   "source": [
    "# https://unit8co.github.io/darts/generated_api/darts.models.forecasting.nbeats.html\n",
    "from darts.models import NBEATSModel\n",
    "model = NBEATSModel(\n",
    "    input_chunk_length=24, \n",
    "    output_chunk_length=12, \n",
    "    n_epochs=100, \n",
    "    random_state=0, \n",
    "    model_name=\"NBEATS\",\n",
    "    log_tensorboard=True,\n",
    "    pl_trainer_kwargs=pl_trainer_kwargs\n",
    ")\n",
    "model.fit(train, val_series=val, verbose=True)"
   ]
  },
  {
   "cell_type": "code",
   "execution_count": 19,
   "id": "4e4ff2a1-c01a-44d0-ac71-1da80b147a0f",
   "metadata": {},
   "outputs": [
    {
     "name": "stderr",
     "output_type": "stream",
     "text": [
      "GPU available: True (cuda), used: True\n",
      "TPU available: False, using: 0 TPU cores\n",
      "HPU available: False, using: 0 HPUs\n",
      "LOCAL_RANK: 0 - CUDA_VISIBLE_DEVICES: [0]\n"
     ]
    },
    {
     "data": {
      "application/vnd.jupyter.widget-view+json": {
       "model_id": "b527365a8bfb40898cc022516309ecba",
       "version_major": 2,
       "version_minor": 0
      },
      "text/plain": [
       "Predicting: |                                                                                    | 0/? [00:00<…"
      ]
     },
     "metadata": {},
     "output_type": "display_data"
    }
   ],
   "source": [
    "val_preds = model.predict(len(val))"
   ]
  },
  {
   "cell_type": "code",
   "execution_count": 20,
   "id": "04b93de7-27a0-4ed3-bc3d-84fc68a35e96",
   "metadata": {},
   "outputs": [
    {
     "data": {
      "image/png": "[encoded data removed]",
      "text/plain": [
       "<Figure size 640x480 with 1 Axes>"
      ]
     },
     "metadata": {},
     "output_type": "display_data"
    }
   ],
   "source": [
    "series.drop_before(visualizing).plot()\n",
    "val_preds.plot(label=\"forecast\", low_quantile=0.05, high_quantile=0.95)\n",
    "plt.legend()\n",
    "plt.show()"
   ]
  },
  {
   "cell_type": "code",
   "execution_count": 31,
   "id": "ce9dd993-24ee-4657-8a3e-43f312a0d561",
   "metadata": {},
   "outputs": [],
   "source": [
    "from darts.models import RNNModel, BlockRNNModel\n",
    "early_stopper = EarlyStopping(\n",
    "    monitor=\"val_loss\",\n",
    "    patience=5,\n",
    "    min_delta=0.05,\n",
    "    mode='min',\n",
    ")\n",
    "\n",
    "pl_trainer_kwargs={\"callbacks\": [early_stopper]}\n",
    "model = RNNModel(\n",
    "    model=\"LSTM\",\n",
    "    hidden_dim=20,\n",
    "    n_rnn_layers=3,\n",
    "    dropout=0,\n",
    "    batch_size=16,\n",
    "    n_epochs=100,\n",
    "    optimizer_kwargs={\"lr\": 1e-3},\n",
    "    model_name=\"LSTM\",\n",
    "    log_tensorboard=True,\n",
    "    random_state=7,\n",
    "    training_length=20,\n",
    "    input_chunk_length=14,\n",
    "    force_reset=True,\n",
    "    save_checkpoints=True,\n",
    "    pl_trainer_kwargs=pl_trainer_kwargs,\n",
    ")\n"
   ]
  },
  {
   "cell_type": "code",
   "execution_count": 33,
   "id": "1de30665-8d90-44b1-97e4-176e6447905b",
   "metadata": {},
   "outputs": [
    {
     "name": "stderr",
     "output_type": "stream",
     "text": [
      "ValueError: The following parameters cannot be passed in `fit_kwargs`: {'verbose'}. Make sure to pass them explicitly to the function/method.\n"
     ]
    },
    {
     "ename": "ValueError",
     "evalue": "The following parameters cannot be passed in `fit_kwargs`: {'verbose'}. Make sure to pass them explicitly to the function/method.",
     "output_type": "error",
     "traceback": [
      "\u001b[1;31m---------------------------------------------------------------------------\u001b[0m",
      "\u001b[1;31mValueError\u001b[0m                                Traceback (most recent call last)",
      "Cell \u001b[1;32mIn[33], line 1\u001b[0m\n\u001b[1;32m----> 1\u001b[0m \u001b[43mmodel\u001b[49m\u001b[38;5;241;43m.\u001b[39;49m\u001b[43mhistorical_forecasts\u001b[49m\u001b[43m(\u001b[49m\n\u001b[0;32m      2\u001b[0m \u001b[43m    \u001b[49m\u001b[43mtrain\u001b[49m\u001b[43m,\u001b[49m\n\u001b[0;32m      3\u001b[0m \u001b[43m    \u001b[49m\u001b[43mstart\u001b[49m\u001b[38;5;241;43m=\u001b[39;49m\u001b[38;5;28;43mlen\u001b[39;49m\u001b[43m(\u001b[49m\u001b[43mtrain\u001b[49m\u001b[43m)\u001b[49m\u001b[43m \u001b[49m\u001b[38;5;241;43m-\u001b[39;49m\u001b[43m \u001b[49m\u001b[38;5;241;43m50\u001b[39;49m\u001b[43m,\u001b[49m\n\u001b[0;32m      4\u001b[0m \u001b[43m    \u001b[49m\u001b[43mforecast_horizon\u001b[49m\u001b[38;5;241;43m=\u001b[39;49m\u001b[38;5;241;43m3\u001b[39;49m\u001b[43m,\u001b[49m\n\u001b[0;32m      5\u001b[0m \u001b[43m    \u001b[49m\u001b[43mverbose\u001b[49m\u001b[38;5;241;43m=\u001b[39;49m\u001b[38;5;28;43;01mFalse\u001b[39;49;00m\u001b[43m,\u001b[49m\n\u001b[0;32m      6\u001b[0m \u001b[43m    \u001b[49m\u001b[43mfit_kwargs\u001b[49m\u001b[38;5;241;43m=\u001b[39;49m\u001b[43m{\u001b[49m\u001b[38;5;124;43m\"\u001b[39;49m\u001b[38;5;124;43mval_series\u001b[39;49m\u001b[38;5;124;43m\"\u001b[39;49m\u001b[43m:\u001b[49m\u001b[43m \u001b[49m\u001b[43mval\u001b[49m\u001b[43m,\u001b[49m\u001b[43m \u001b[49m\u001b[38;5;124;43m\"\u001b[39;49m\u001b[38;5;124;43mverbose\u001b[39;49m\u001b[38;5;124;43m\"\u001b[39;49m\u001b[43m:\u001b[49m\u001b[43m \u001b[49m\u001b[38;5;28;43;01mFalse\u001b[39;49;00m\u001b[43m}\u001b[49m\n\u001b[0;32m      7\u001b[0m \u001b[43m)\u001b[49m\n",
      "File \u001b[1;32m~\\miniforge3\\envs\\astp\\lib\\site-packages\\darts\\utils\\utils.py:259\u001b[0m, in \u001b[0;36m_with_sanity_checks.<locals>.decorator.<locals>.sanitized_method\u001b[1;34m(self, *args, **kwargs)\u001b[0m\n\u001b[0;32m    256\u001b[0m     only_args\u001b[38;5;241m.\u001b[39mpop(\u001b[38;5;124m\"\u001b[39m\u001b[38;5;124mself\u001b[39m\u001b[38;5;124m\"\u001b[39m)\n\u001b[0;32m    258\u001b[0m     \u001b[38;5;28mgetattr\u001b[39m(\u001b[38;5;28mself\u001b[39m, sanity_check_method)(\u001b[38;5;241m*\u001b[39monly_args\u001b[38;5;241m.\u001b[39mvalues(), \u001b[38;5;241m*\u001b[39m\u001b[38;5;241m*\u001b[39monly_kwargs)\n\u001b[1;32m--> 259\u001b[0m \u001b[38;5;28;01mreturn\u001b[39;00m method_to_sanitize(\u001b[38;5;28mself\u001b[39m, \u001b[38;5;241m*\u001b[39monly_args\u001b[38;5;241m.\u001b[39mvalues(), \u001b[38;5;241m*\u001b[39m\u001b[38;5;241m*\u001b[39monly_kwargs)\n",
      "File \u001b[1;32m~\\miniforge3\\envs\\astp\\lib\\site-packages\\darts\\models\\forecasting\\forecasting_model.py:958\u001b[0m, in \u001b[0;36mForecastingModel.historical_forecasts\u001b[1;34m(self, series, past_covariates, future_covariates, forecast_horizon, num_samples, train_length, start, start_format, stride, retrain, overlap_end, last_points_only, verbose, show_warnings, predict_likelihood_parameters, enable_optimization, data_transformers, fit_kwargs, predict_kwargs, sample_weight)\u001b[0m\n\u001b[0;32m    948\u001b[0m     series, past_covariates, future_covariates \u001b[38;5;241m=\u001b[39m _apply_data_transformers(\n\u001b[0;32m    949\u001b[0m         series\u001b[38;5;241m=\u001b[39mseries,\n\u001b[0;32m    950\u001b[0m         past_covariates\u001b[38;5;241m=\u001b[39mpast_covariates,\n\u001b[1;32m   (...)\u001b[0m\n\u001b[0;32m    954\u001b[0m         fit_transformers\u001b[38;5;241m=\u001b[39m\u001b[38;5;28;01mFalse\u001b[39;00m,\n\u001b[0;32m    955\u001b[0m     )\n\u001b[0;32m    957\u001b[0m \u001b[38;5;66;03m# remove unsupported arguments, raise exception if interference with historical forecasts logic\u001b[39;00m\n\u001b[1;32m--> 958\u001b[0m fit_kwargs, predict_kwargs \u001b[38;5;241m=\u001b[39m \u001b[43m_historical_forecasts_sanitize_kwargs\u001b[49m\u001b[43m(\u001b[49m\n\u001b[0;32m    959\u001b[0m \u001b[43m    \u001b[49m\u001b[43mmodel\u001b[49m\u001b[38;5;241;43m=\u001b[39;49m\u001b[43mmodel\u001b[49m\u001b[43m,\u001b[49m\n\u001b[0;32m    960\u001b[0m \u001b[43m    \u001b[49m\u001b[43mfit_kwargs\u001b[49m\u001b[38;5;241;43m=\u001b[39;49m\u001b[43mfit_kwargs\u001b[49m\u001b[43m,\u001b[49m\n\u001b[0;32m    961\u001b[0m \u001b[43m    \u001b[49m\u001b[43mpredict_kwargs\u001b[49m\u001b[38;5;241;43m=\u001b[39;49m\u001b[43mpredict_kwargs\u001b[49m\u001b[43m,\u001b[49m\n\u001b[0;32m    962\u001b[0m \u001b[43m    \u001b[49m\u001b[43mretrain\u001b[49m\u001b[38;5;241;43m=\u001b[39;49m\u001b[43mretrain\u001b[49m\u001b[43m \u001b[49m\u001b[38;5;129;43;01mis\u001b[39;49;00m\u001b[43m \u001b[49m\u001b[38;5;129;43;01mnot\u001b[39;49;00m\u001b[43m \u001b[49m\u001b[38;5;28;43;01mFalse\u001b[39;49;00m\u001b[43m \u001b[49m\u001b[38;5;129;43;01mand\u001b[39;49;00m\u001b[43m \u001b[49m\u001b[43mretrain\u001b[49m\u001b[43m \u001b[49m\u001b[38;5;241;43m!=\u001b[39;49m\u001b[43m \u001b[49m\u001b[38;5;241;43m0\u001b[39;49m\u001b[43m,\u001b[49m\n\u001b[0;32m    963\u001b[0m \u001b[43m    \u001b[49m\u001b[43mshow_warnings\u001b[49m\u001b[38;5;241;43m=\u001b[39;49m\u001b[43mshow_warnings\u001b[49m\u001b[43m,\u001b[49m\n\u001b[0;32m    964\u001b[0m \u001b[43m\u001b[49m\u001b[43m)\u001b[49m\n\u001b[0;32m    966\u001b[0m \u001b[38;5;28;01mif\u001b[39;00m (\n\u001b[0;32m    967\u001b[0m     enable_optimization\n\u001b[0;32m    968\u001b[0m     \u001b[38;5;129;01mand\u001b[39;00m model\u001b[38;5;241m.\u001b[39msupports_optimized_historical_forecasts\n\u001b[1;32m   (...)\u001b[0m\n\u001b[0;32m    973\u001b[0m     )\n\u001b[0;32m    974\u001b[0m ):\n\u001b[0;32m    975\u001b[0m     forecasts \u001b[38;5;241m=\u001b[39m model\u001b[38;5;241m.\u001b[39m_optimized_historical_forecasts(\n\u001b[0;32m    976\u001b[0m         series\u001b[38;5;241m=\u001b[39mseries,\n\u001b[0;32m    977\u001b[0m         past_covariates\u001b[38;5;241m=\u001b[39mpast_covariates,\n\u001b[1;32m   (...)\u001b[0m\n\u001b[0;32m    989\u001b[0m         \u001b[38;5;241m*\u001b[39m\u001b[38;5;241m*\u001b[39mpredict_kwargs,\n\u001b[0;32m    990\u001b[0m     )\n",
      "File \u001b[1;32m~\\miniforge3\\envs\\astp\\lib\\site-packages\\darts\\utils\\historical_forecasts\\utils.py:367\u001b[0m, in \u001b[0;36m_historical_forecasts_sanitize_kwargs\u001b[1;34m(model, fit_kwargs, predict_kwargs, retrain, show_warnings)\u001b[0m\n\u001b[0;32m    365\u001b[0m     fit_kwargs \u001b[38;5;241m=\u001b[39m \u001b[38;5;28mdict\u001b[39m()\n\u001b[0;32m    366\u001b[0m \u001b[38;5;28;01melif\u001b[39;00m retrain:\n\u001b[1;32m--> 367\u001b[0m     fit_kwargs \u001b[38;5;241m=\u001b[39m \u001b[43m_historical_forecasts_check_kwargs\u001b[49m\u001b[43m(\u001b[49m\n\u001b[0;32m    368\u001b[0m \u001b[43m        \u001b[49m\u001b[43mhfc_args\u001b[49m\u001b[38;5;241;43m=\u001b[39;49m\u001b[43mhfc_args\u001b[49m\u001b[43m,\u001b[49m\n\u001b[0;32m    369\u001b[0m \u001b[43m        \u001b[49m\u001b[43mname_kwargs\u001b[49m\u001b[38;5;241;43m=\u001b[39;49m\u001b[38;5;124;43m\"\u001b[39;49m\u001b[38;5;124;43mfit_kwargs\u001b[39;49m\u001b[38;5;124;43m\"\u001b[39;49m\u001b[43m,\u001b[49m\n\u001b[0;32m    370\u001b[0m \u001b[43m        \u001b[49m\u001b[43mdict_kwargs\u001b[49m\u001b[38;5;241;43m=\u001b[39;49m\u001b[43mfit_kwargs\u001b[49m\u001b[43m,\u001b[49m\n\u001b[0;32m    371\u001b[0m \u001b[43m    \u001b[49m\u001b[43m)\u001b[49m\n\u001b[0;32m    372\u001b[0m \u001b[38;5;28;01melif\u001b[39;00m show_warnings:\n\u001b[0;32m    373\u001b[0m     logger\u001b[38;5;241m.\u001b[39mwarning(\n\u001b[0;32m    374\u001b[0m         \u001b[38;5;124m\"\u001b[39m\u001b[38;5;124m`fit_kwargs` was provided with `retrain=False`, the argument will be ignored.\u001b[39m\u001b[38;5;124m\"\u001b[39m\n\u001b[0;32m    375\u001b[0m     )\n",
      "File \u001b[1;32m~\\miniforge3\\envs\\astp\\lib\\site-packages\\darts\\utils\\historical_forecasts\\utils.py:401\u001b[0m, in \u001b[0;36m_historical_forecasts_check_kwargs\u001b[1;34m(hfc_args, name_kwargs, dict_kwargs)\u001b[0m\n\u001b[0;32m    399\u001b[0m invalid_args \u001b[38;5;241m=\u001b[39m \u001b[38;5;28mset\u001b[39m(dict_kwargs)\u001b[38;5;241m.\u001b[39mintersection(hfc_args)\n\u001b[0;32m    400\u001b[0m \u001b[38;5;28;01mif\u001b[39;00m \u001b[38;5;28mlen\u001b[39m(invalid_args) \u001b[38;5;241m>\u001b[39m \u001b[38;5;241m0\u001b[39m:\n\u001b[1;32m--> 401\u001b[0m     \u001b[43mraise_log\u001b[49m\u001b[43m(\u001b[49m\n\u001b[0;32m    402\u001b[0m \u001b[43m        \u001b[49m\u001b[38;5;167;43;01mValueError\u001b[39;49;00m\u001b[43m(\u001b[49m\n\u001b[0;32m    403\u001b[0m \u001b[43m            \u001b[49m\u001b[38;5;124;43mf\u001b[39;49m\u001b[38;5;124;43m\"\u001b[39;49m\u001b[38;5;124;43mThe following parameters cannot be passed in `\u001b[39;49m\u001b[38;5;132;43;01m{\u001b[39;49;00m\u001b[43mname_kwargs\u001b[49m\u001b[38;5;132;43;01m}\u001b[39;49;00m\u001b[38;5;124;43m`: \u001b[39;49m\u001b[38;5;132;43;01m{\u001b[39;49;00m\u001b[43minvalid_args\u001b[49m\u001b[38;5;132;43;01m}\u001b[39;49;00m\u001b[38;5;124;43m. \u001b[39;49m\u001b[38;5;124;43m\"\u001b[39;49m\n\u001b[0;32m    404\u001b[0m \u001b[43m            \u001b[49m\u001b[38;5;124;43mf\u001b[39;49m\u001b[38;5;124;43m\"\u001b[39;49m\u001b[38;5;124;43mMake sure to pass them explicitly to the function/method.\u001b[39;49m\u001b[38;5;124;43m\"\u001b[39;49m\n\u001b[0;32m    405\u001b[0m \u001b[43m        \u001b[49m\u001b[43m)\u001b[49m\u001b[43m,\u001b[49m\n\u001b[0;32m    406\u001b[0m \u001b[43m        \u001b[49m\u001b[43mlogger\u001b[49m\u001b[43m,\u001b[49m\n\u001b[0;32m    407\u001b[0m \u001b[43m    \u001b[49m\u001b[43m)\u001b[49m\n\u001b[0;32m    408\u001b[0m \u001b[38;5;28;01mreturn\u001b[39;00m dict_kwargs\n",
      "File \u001b[1;32m~\\miniforge3\\envs\\astp\\lib\\site-packages\\darts\\logging.py:132\u001b[0m, in \u001b[0;36mraise_log\u001b[1;34m(exception, logger)\u001b[0m\n\u001b[0;32m    129\u001b[0m message \u001b[38;5;241m=\u001b[39m \u001b[38;5;28mstr\u001b[39m(exception)\n\u001b[0;32m    130\u001b[0m logger\u001b[38;5;241m.\u001b[39merror(exception_type \u001b[38;5;241m+\u001b[39m \u001b[38;5;124m\"\u001b[39m\u001b[38;5;124m: \u001b[39m\u001b[38;5;124m\"\u001b[39m \u001b[38;5;241m+\u001b[39m message)\n\u001b[1;32m--> 132\u001b[0m \u001b[38;5;28;01mraise\u001b[39;00m exception\n",
      "\u001b[1;31mValueError\u001b[0m: The following parameters cannot be passed in `fit_kwargs`: {'verbose'}. Make sure to pass them explicitly to the function/method."
     ]
    }
   ],
   "source": [
    "model.historical_forecasts(\n",
    "    train,\n",
    "    start=len(train) - 50,\n",
    "    forecast_horizon=3,\n",
    "    verbose=False,\n",
    "    fit_kwargs={\"val_series\": val, \"verbose\": False}\n",
    ")"
   ]
  },
  {
   "cell_type": "code",
   "execution_count": null,
   "id": "9582055f-66f6-4bb7-a387-360c6e123ce3",
   "metadata": {},
   "outputs": [],
   "source": [
    "model.fit(train, val_series=val, verbose=True)"
   ]
  },
  {
   "cell_type": "raw",
   "id": "d7543e92-1a60-4c12-bf12-9d883ebddf99",
   "metadata": {},
   "source": [
    "model.load_from_checkpoint("
   ]
  },
  {
   "cell_type": "code",
   "execution_count": 22,
   "id": "37cec69e-d026-48d2-b2f2-a6888ffe9e62",
   "metadata": {},
   "outputs": [
    {
     "name": "stderr",
     "output_type": "stream",
     "text": [
      "GPU available: True (cuda), used: True\n",
      "TPU available: False, using: 0 TPU cores\n",
      "HPU available: False, using: 0 HPUs\n",
      "LOCAL_RANK: 0 - CUDA_VISIBLE_DEVICES: [0]\n"
     ]
    },
    {
     "data": {
      "application/vnd.jupyter.widget-view+json": {
       "model_id": "ebdfa451dcfd443192790e6db3e63de4",
       "version_major": 2,
       "version_minor": 0
      },
      "text/plain": [
       "Predicting: |                                                                                    | 0/? [00:00<…"
      ]
     },
     "metadata": {},
     "output_type": "display_data"
    }
   ],
   "source": [
    "val_preds = model.predict(len(val))"
   ]
  },
  {
   "cell_type": "code",
   "execution_count": 23,
   "id": "eae94935-f5e8-4804-9b24-2beec6006455",
   "metadata": {},
   "outputs": [
    {
     "data": {
      "text/plain": [
       "0"
      ]
     },
     "execution_count": 23,
     "metadata": {},
     "output_type": "execute_result"
    }
   ],
   "source": [
    "model.first_prediction_index"
   ]
  },
  {
   "cell_type": "code",
   "execution_count": 24,
   "id": "34e248f2-d08d-4473-af91-929593b21c14",
   "metadata": {},
   "outputs": [
    {
     "data": {
      "image/png": "[encoded data removed]",
      "text/plain": [
       "<Figure size 640x480 with 1 Axes>"
      ]
     },
     "metadata": {},
     "output_type": "display_data"
    }
   ],
   "source": [
    "series.drop_before(visualizing).plot()\n",
    "val_preds.plot(label=\"forecast\", low_quantile=0.05, high_quantile=0.95)\n",
    "plt.legend()\n",
    "plt.show()"
   ]
  },
  {
   "cell_type": "code",
   "execution_count": null,
   "id": "ef14ff53-6238-4982-b239-69460e1843c4",
   "metadata": {},
   "outputs": [],
   "source": []
  }
 ],
 "metadata": {
  "kernelspec": {
   "display_name": "Python 3 (ipykernel)",
   "language": "python",
   "name": "python3"
  },
  "language_info": {
   "codemirror_mode": {
    "name": "ipython",
    "version": 3
   },
   "file_extension": ".py",
   "mimetype": "text/x-python",
   "name": "python",
   "nbconvert_exporter": "python",
   "pygments_lexer": "ipython3",
   "version": "3.10.16"
  }
 },
 "nbformat": 4,
 "nbformat_minor": 5
}
